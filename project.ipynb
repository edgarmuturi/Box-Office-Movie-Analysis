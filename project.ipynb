{
 "cells": [
  {
   "cell_type": "markdown",
   "id": "c4cf66f2",
   "metadata": {},
   "source": [
    "## Project Title: Exploratory Data Analysis for a New Movie Studio Venture\n",
    "\n",
    "### Business Problem\n",
    "\n",
    "Our client is exploring an entry into the movie production industry but lacks insider knowledge about what drives box office success. Box office refers explicitly to theatre ticket sales. To make informed decisions, we need to identify the key characteristics of financially successful films.\n",
    "\n",
    "### Project Goal\n",
    "\n",
    "This analysis aims to explore historical box office data alongside movie attributes such as genre, ratings, and release trends to uncover patterns associated with higher revenue. Based on our findings, we will present three actionable business recommendations to guide the client’s movie production strategy.\n",
    "\n",
    "### Objectives:  \n",
    "We are looking to answer the following research questions:\n",
    "1. Genre trends: Which genres are most profitable?\n",
    "2. Runtime, Ratings, and Revenue: Is there a correlation between rating or length and revenue?\n",
    "3. Release Seasons(q1,q2,q3,q4): Which months do movies do best? \n",
    "4. Do movies with different content ratings have significantly different average ROI?  \n",
    "\n",
    "### Datasets Used\n",
    "\n",
    "We use three main datasets:\n",
    "\n",
    "- Box Office Mojo (bom.movie_gross.csv.gz): Contains domestic gross revenue, production studio, release year, and movie titles.\n",
    "\n",
    "- IMDB Dataset (im.db SQLite file): Includes detailed movie metadata from movie_basics (title, genre, runtime) and movie_ratings (average rating, number of votes).\n",
    "\n",
    "- TN Movie Budgets Dataset (tn.movie_budgets.csv): Contains data on movie budgets, domestic and worldwide gross, and release dates.\n",
    "\n",
    "These datasets will be cleaned and merged to create a unified dataset for analysis."
   ]
  },
  {
   "cell_type": "markdown",
   "id": "34f947fb",
   "metadata": {},
   "source": [
    "### 1.1 Importing necessary libraries"
   ]
  },
  {
   "cell_type": "code",
   "execution_count": 129,
   "id": "b24f20c6",
   "metadata": {},
   "outputs": [],
   "source": [
    "import pandas as pd\n",
    "import sqlite3\n",
    "import seaborn as sns\n",
    "import matplotlib.pyplot as plt\n",
    "import numpy as np\n",
    "from scipy import stats\n",
    "from scipy.stats import pearsonr"
   ]
  },
  {
   "cell_type": "markdown",
   "id": "0c0b7d34",
   "metadata": {},
   "source": [
    "### 1.2 Loading datasets"
   ]
  },
  {
   "cell_type": "code",
   "execution_count": 130,
   "id": "baf69c8f",
   "metadata": {},
   "outputs": [],
   "source": [
    "# Loading BOM dataset\n",
    "bom_df = pd.read_csv('bom.movie_gross.csv')\n",
    "\n",
    "# Loading IMBD dataset\n",
    "conn = sqlite3.connect('im.db')\n",
    "\n",
    "# Loading TN dataset\n",
    "tn_df = pd.read_csv('tn.movie_budgets.csv')"
   ]
  },
  {
   "cell_type": "markdown",
   "id": "c7fc9b98",
   "metadata": {},
   "source": [
    "### 1.3 Exploratory Data Analysis\n"
   ]
  },
  {
   "cell_type": "code",
   "execution_count": 131,
   "id": "f11f7195",
   "metadata": {},
   "outputs": [
    {
     "name": "stdout",
     "output_type": "stream",
     "text": [
      "<class 'pandas.core.frame.DataFrame'>\n",
      "RangeIndex: 3387 entries, 0 to 3386\n",
      "Data columns (total 5 columns):\n",
      " #   Column          Non-Null Count  Dtype  \n",
      "---  ------          --------------  -----  \n",
      " 0   title           3387 non-null   object \n",
      " 1   studio          3382 non-null   object \n",
      " 2   domestic_gross  3359 non-null   float64\n",
      " 3   foreign_gross   2037 non-null   object \n",
      " 4   year            3387 non-null   int64  \n",
      "dtypes: float64(1), int64(1), object(3)\n",
      "memory usage: 132.4+ KB\n"
     ]
    }
   ],
   "source": [
    "# BOM dataset\n",
    "bom_df.info()"
   ]
  },
  {
   "cell_type": "code",
   "execution_count": 132,
   "id": "76cf9f93",
   "metadata": {},
   "outputs": [
    {
     "data": {
      "text/html": [
       "<div>\n",
       "<style scoped>\n",
       "    .dataframe tbody tr th:only-of-type {\n",
       "        vertical-align: middle;\n",
       "    }\n",
       "\n",
       "    .dataframe tbody tr th {\n",
       "        vertical-align: top;\n",
       "    }\n",
       "\n",
       "    .dataframe thead th {\n",
       "        text-align: right;\n",
       "    }\n",
       "</style>\n",
       "<table border=\"1\" class=\"dataframe\">\n",
       "  <thead>\n",
       "    <tr style=\"text-align: right;\">\n",
       "      <th></th>\n",
       "      <th>title</th>\n",
       "      <th>studio</th>\n",
       "      <th>domestic_gross</th>\n",
       "      <th>foreign_gross</th>\n",
       "      <th>year</th>\n",
       "    </tr>\n",
       "  </thead>\n",
       "  <tbody>\n",
       "    <tr>\n",
       "      <th>0</th>\n",
       "      <td>Toy Story 3</td>\n",
       "      <td>BV</td>\n",
       "      <td>415000000.0</td>\n",
       "      <td>652000000</td>\n",
       "      <td>2010</td>\n",
       "    </tr>\n",
       "    <tr>\n",
       "      <th>1</th>\n",
       "      <td>Alice in Wonderland (2010)</td>\n",
       "      <td>BV</td>\n",
       "      <td>334200000.0</td>\n",
       "      <td>691300000</td>\n",
       "      <td>2010</td>\n",
       "    </tr>\n",
       "    <tr>\n",
       "      <th>2</th>\n",
       "      <td>Harry Potter and the Deathly Hallows Part 1</td>\n",
       "      <td>WB</td>\n",
       "      <td>296000000.0</td>\n",
       "      <td>664300000</td>\n",
       "      <td>2010</td>\n",
       "    </tr>\n",
       "    <tr>\n",
       "      <th>3</th>\n",
       "      <td>Inception</td>\n",
       "      <td>WB</td>\n",
       "      <td>292600000.0</td>\n",
       "      <td>535700000</td>\n",
       "      <td>2010</td>\n",
       "    </tr>\n",
       "    <tr>\n",
       "      <th>4</th>\n",
       "      <td>Shrek Forever After</td>\n",
       "      <td>P/DW</td>\n",
       "      <td>238700000.0</td>\n",
       "      <td>513900000</td>\n",
       "      <td>2010</td>\n",
       "    </tr>\n",
       "  </tbody>\n",
       "</table>\n",
       "</div>"
      ],
      "text/plain": [
       "                                         title studio  domestic_gross  \\\n",
       "0                                  Toy Story 3     BV     415000000.0   \n",
       "1                   Alice in Wonderland (2010)     BV     334200000.0   \n",
       "2  Harry Potter and the Deathly Hallows Part 1     WB     296000000.0   \n",
       "3                                    Inception     WB     292600000.0   \n",
       "4                          Shrek Forever After   P/DW     238700000.0   \n",
       "\n",
       "  foreign_gross  year  \n",
       "0     652000000  2010  \n",
       "1     691300000  2010  \n",
       "2     664300000  2010  \n",
       "3     535700000  2010  \n",
       "4     513900000  2010  "
      ]
     },
     "execution_count": 132,
     "metadata": {},
     "output_type": "execute_result"
    }
   ],
   "source": [
    "bom_df.head()"
   ]
  },
  {
   "cell_type": "code",
   "execution_count": 133,
   "id": "e568d837",
   "metadata": {},
   "outputs": [
    {
     "name": "stdout",
     "output_type": "stream",
     "text": [
      "            name\n",
      "0   movie_basics\n",
      "1      directors\n",
      "2      known_for\n",
      "3     movie_akas\n",
      "4  movie_ratings\n",
      "5        persons\n",
      "6     principals\n",
      "7        writers\n"
     ]
    }
   ],
   "source": [
    "#view all tables in IMDB database\n",
    "query = \"SELECT name FROM sqlite_master WHERE type='table';\"\n",
    "tables = pd.read_sql(query, conn)\n",
    "print(tables)"
   ]
  },
  {
   "cell_type": "code",
   "execution_count": 134,
   "id": "5a3aef22",
   "metadata": {},
   "outputs": [
    {
     "data": {
      "text/html": [
       "<div>\n",
       "<style scoped>\n",
       "    .dataframe tbody tr th:only-of-type {\n",
       "        vertical-align: middle;\n",
       "    }\n",
       "\n",
       "    .dataframe tbody tr th {\n",
       "        vertical-align: top;\n",
       "    }\n",
       "\n",
       "    .dataframe thead th {\n",
       "        text-align: right;\n",
       "    }\n",
       "</style>\n",
       "<table border=\"1\" class=\"dataframe\">\n",
       "  <thead>\n",
       "    <tr style=\"text-align: right;\">\n",
       "      <th></th>\n",
       "      <th>movie_id</th>\n",
       "      <th>primary_title</th>\n",
       "      <th>original_title</th>\n",
       "      <th>start_year</th>\n",
       "      <th>runtime_minutes</th>\n",
       "      <th>genres</th>\n",
       "    </tr>\n",
       "  </thead>\n",
       "  <tbody>\n",
       "    <tr>\n",
       "      <th>0</th>\n",
       "      <td>tt0063540</td>\n",
       "      <td>Sunghursh</td>\n",
       "      <td>Sunghursh</td>\n",
       "      <td>2013</td>\n",
       "      <td>175.0</td>\n",
       "      <td>Action,Crime,Drama</td>\n",
       "    </tr>\n",
       "    <tr>\n",
       "      <th>1</th>\n",
       "      <td>tt0066787</td>\n",
       "      <td>One Day Before the Rainy Season</td>\n",
       "      <td>Ashad Ka Ek Din</td>\n",
       "      <td>2019</td>\n",
       "      <td>114.0</td>\n",
       "      <td>Biography,Drama</td>\n",
       "    </tr>\n",
       "    <tr>\n",
       "      <th>2</th>\n",
       "      <td>tt0069049</td>\n",
       "      <td>The Other Side of the Wind</td>\n",
       "      <td>The Other Side of the Wind</td>\n",
       "      <td>2018</td>\n",
       "      <td>122.0</td>\n",
       "      <td>Drama</td>\n",
       "    </tr>\n",
       "    <tr>\n",
       "      <th>3</th>\n",
       "      <td>tt0069204</td>\n",
       "      <td>Sabse Bada Sukh</td>\n",
       "      <td>Sabse Bada Sukh</td>\n",
       "      <td>2018</td>\n",
       "      <td>NaN</td>\n",
       "      <td>Comedy,Drama</td>\n",
       "    </tr>\n",
       "    <tr>\n",
       "      <th>4</th>\n",
       "      <td>tt0100275</td>\n",
       "      <td>The Wandering Soap Opera</td>\n",
       "      <td>La Telenovela Errante</td>\n",
       "      <td>2017</td>\n",
       "      <td>80.0</td>\n",
       "      <td>Comedy,Drama,Fantasy</td>\n",
       "    </tr>\n",
       "    <tr>\n",
       "      <th>...</th>\n",
       "      <td>...</td>\n",
       "      <td>...</td>\n",
       "      <td>...</td>\n",
       "      <td>...</td>\n",
       "      <td>...</td>\n",
       "      <td>...</td>\n",
       "    </tr>\n",
       "    <tr>\n",
       "      <th>146139</th>\n",
       "      <td>tt9916538</td>\n",
       "      <td>Kuambil Lagi Hatiku</td>\n",
       "      <td>Kuambil Lagi Hatiku</td>\n",
       "      <td>2019</td>\n",
       "      <td>123.0</td>\n",
       "      <td>Drama</td>\n",
       "    </tr>\n",
       "    <tr>\n",
       "      <th>146140</th>\n",
       "      <td>tt9916622</td>\n",
       "      <td>Rodolpho Teóphilo - O Legado de um Pioneiro</td>\n",
       "      <td>Rodolpho Teóphilo - O Legado de um Pioneiro</td>\n",
       "      <td>2015</td>\n",
       "      <td>NaN</td>\n",
       "      <td>Documentary</td>\n",
       "    </tr>\n",
       "    <tr>\n",
       "      <th>146141</th>\n",
       "      <td>tt9916706</td>\n",
       "      <td>Dankyavar Danka</td>\n",
       "      <td>Dankyavar Danka</td>\n",
       "      <td>2013</td>\n",
       "      <td>NaN</td>\n",
       "      <td>Comedy</td>\n",
       "    </tr>\n",
       "    <tr>\n",
       "      <th>146142</th>\n",
       "      <td>tt9916730</td>\n",
       "      <td>6 Gunn</td>\n",
       "      <td>6 Gunn</td>\n",
       "      <td>2017</td>\n",
       "      <td>116.0</td>\n",
       "      <td>None</td>\n",
       "    </tr>\n",
       "    <tr>\n",
       "      <th>146143</th>\n",
       "      <td>tt9916754</td>\n",
       "      <td>Chico Albuquerque - Revelações</td>\n",
       "      <td>Chico Albuquerque - Revelações</td>\n",
       "      <td>2013</td>\n",
       "      <td>NaN</td>\n",
       "      <td>Documentary</td>\n",
       "    </tr>\n",
       "  </tbody>\n",
       "</table>\n",
       "<p>146144 rows × 6 columns</p>\n",
       "</div>"
      ],
      "text/plain": [
       "         movie_id                                primary_title  \\\n",
       "0       tt0063540                                    Sunghursh   \n",
       "1       tt0066787              One Day Before the Rainy Season   \n",
       "2       tt0069049                   The Other Side of the Wind   \n",
       "3       tt0069204                              Sabse Bada Sukh   \n",
       "4       tt0100275                     The Wandering Soap Opera   \n",
       "...           ...                                          ...   \n",
       "146139  tt9916538                          Kuambil Lagi Hatiku   \n",
       "146140  tt9916622  Rodolpho Teóphilo - O Legado de um Pioneiro   \n",
       "146141  tt9916706                              Dankyavar Danka   \n",
       "146142  tt9916730                                       6 Gunn   \n",
       "146143  tt9916754               Chico Albuquerque - Revelações   \n",
       "\n",
       "                                     original_title  start_year  \\\n",
       "0                                         Sunghursh        2013   \n",
       "1                                   Ashad Ka Ek Din        2019   \n",
       "2                        The Other Side of the Wind        2018   \n",
       "3                                   Sabse Bada Sukh        2018   \n",
       "4                             La Telenovela Errante        2017   \n",
       "...                                             ...         ...   \n",
       "146139                          Kuambil Lagi Hatiku        2019   \n",
       "146140  Rodolpho Teóphilo - O Legado de um Pioneiro        2015   \n",
       "146141                              Dankyavar Danka        2013   \n",
       "146142                                       6 Gunn        2017   \n",
       "146143               Chico Albuquerque - Revelações        2013   \n",
       "\n",
       "        runtime_minutes                genres  \n",
       "0                 175.0    Action,Crime,Drama  \n",
       "1                 114.0       Biography,Drama  \n",
       "2                 122.0                 Drama  \n",
       "3                   NaN          Comedy,Drama  \n",
       "4                  80.0  Comedy,Drama,Fantasy  \n",
       "...                 ...                   ...  \n",
       "146139            123.0                 Drama  \n",
       "146140              NaN           Documentary  \n",
       "146141              NaN                Comedy  \n",
       "146142            116.0                  None  \n",
       "146143              NaN           Documentary  \n",
       "\n",
       "[146144 rows x 6 columns]"
      ]
     },
     "execution_count": 134,
     "metadata": {},
     "output_type": "execute_result"
    }
   ],
   "source": [
    "# IMDB Movie basics dataset\n",
    "basics_df = pd.read_sql(\"\"\" \n",
    "    SELECT * FROM movie_basics\n",
    "\"\"\", conn)\n",
    "basics_df"
   ]
  },
  {
   "cell_type": "code",
   "execution_count": 135,
   "id": "29b5aa33",
   "metadata": {},
   "outputs": [
    {
     "name": "stdout",
     "output_type": "stream",
     "text": [
      "<class 'pandas.core.frame.DataFrame'>\n",
      "RangeIndex: 146144 entries, 0 to 146143\n",
      "Data columns (total 6 columns):\n",
      " #   Column           Non-Null Count   Dtype  \n",
      "---  ------           --------------   -----  \n",
      " 0   movie_id         146144 non-null  object \n",
      " 1   primary_title    146144 non-null  object \n",
      " 2   original_title   146123 non-null  object \n",
      " 3   start_year       146144 non-null  int64  \n",
      " 4   runtime_minutes  114405 non-null  float64\n",
      " 5   genres           140736 non-null  object \n",
      "dtypes: float64(1), int64(1), object(4)\n",
      "memory usage: 6.7+ MB\n"
     ]
    }
   ],
   "source": [
    "#get data type of basics_df and non-null count\n",
    "basics_df.info()"
   ]
  },
  {
   "cell_type": "code",
   "execution_count": 136,
   "id": "61938fab",
   "metadata": {},
   "outputs": [
    {
     "data": {
      "text/html": [
       "<div>\n",
       "<style scoped>\n",
       "    .dataframe tbody tr th:only-of-type {\n",
       "        vertical-align: middle;\n",
       "    }\n",
       "\n",
       "    .dataframe tbody tr th {\n",
       "        vertical-align: top;\n",
       "    }\n",
       "\n",
       "    .dataframe thead th {\n",
       "        text-align: right;\n",
       "    }\n",
       "</style>\n",
       "<table border=\"1\" class=\"dataframe\">\n",
       "  <thead>\n",
       "    <tr style=\"text-align: right;\">\n",
       "      <th></th>\n",
       "      <th>movie_id</th>\n",
       "      <th>averagerating</th>\n",
       "      <th>numvotes</th>\n",
       "    </tr>\n",
       "  </thead>\n",
       "  <tbody>\n",
       "    <tr>\n",
       "      <th>0</th>\n",
       "      <td>tt10356526</td>\n",
       "      <td>8.3</td>\n",
       "      <td>31</td>\n",
       "    </tr>\n",
       "    <tr>\n",
       "      <th>1</th>\n",
       "      <td>tt10384606</td>\n",
       "      <td>8.9</td>\n",
       "      <td>559</td>\n",
       "    </tr>\n",
       "    <tr>\n",
       "      <th>2</th>\n",
       "      <td>tt1042974</td>\n",
       "      <td>6.4</td>\n",
       "      <td>20</td>\n",
       "    </tr>\n",
       "    <tr>\n",
       "      <th>3</th>\n",
       "      <td>tt1043726</td>\n",
       "      <td>4.2</td>\n",
       "      <td>50352</td>\n",
       "    </tr>\n",
       "    <tr>\n",
       "      <th>4</th>\n",
       "      <td>tt1060240</td>\n",
       "      <td>6.5</td>\n",
       "      <td>21</td>\n",
       "    </tr>\n",
       "    <tr>\n",
       "      <th>...</th>\n",
       "      <td>...</td>\n",
       "      <td>...</td>\n",
       "      <td>...</td>\n",
       "    </tr>\n",
       "    <tr>\n",
       "      <th>73851</th>\n",
       "      <td>tt9805820</td>\n",
       "      <td>8.1</td>\n",
       "      <td>25</td>\n",
       "    </tr>\n",
       "    <tr>\n",
       "      <th>73852</th>\n",
       "      <td>tt9844256</td>\n",
       "      <td>7.5</td>\n",
       "      <td>24</td>\n",
       "    </tr>\n",
       "    <tr>\n",
       "      <th>73853</th>\n",
       "      <td>tt9851050</td>\n",
       "      <td>4.7</td>\n",
       "      <td>14</td>\n",
       "    </tr>\n",
       "    <tr>\n",
       "      <th>73854</th>\n",
       "      <td>tt9886934</td>\n",
       "      <td>7.0</td>\n",
       "      <td>5</td>\n",
       "    </tr>\n",
       "    <tr>\n",
       "      <th>73855</th>\n",
       "      <td>tt9894098</td>\n",
       "      <td>6.3</td>\n",
       "      <td>128</td>\n",
       "    </tr>\n",
       "  </tbody>\n",
       "</table>\n",
       "<p>73856 rows × 3 columns</p>\n",
       "</div>"
      ],
      "text/plain": [
       "         movie_id  averagerating  numvotes\n",
       "0      tt10356526            8.3        31\n",
       "1      tt10384606            8.9       559\n",
       "2       tt1042974            6.4        20\n",
       "3       tt1043726            4.2     50352\n",
       "4       tt1060240            6.5        21\n",
       "...           ...            ...       ...\n",
       "73851   tt9805820            8.1        25\n",
       "73852   tt9844256            7.5        24\n",
       "73853   tt9851050            4.7        14\n",
       "73854   tt9886934            7.0         5\n",
       "73855   tt9894098            6.3       128\n",
       "\n",
       "[73856 rows x 3 columns]"
      ]
     },
     "execution_count": 136,
     "metadata": {},
     "output_type": "execute_result"
    }
   ],
   "source": [
    "# IMDB movie ratings dataset\n",
    "ratings_df = pd.read_sql(\"\"\"\n",
    "    SELECT * FROM movie_ratings\n",
    "\"\"\", conn)\n",
    "ratings_df"
   ]
  },
  {
   "cell_type": "code",
   "execution_count": 137,
   "id": "8a517e21",
   "metadata": {},
   "outputs": [
    {
     "name": "stdout",
     "output_type": "stream",
     "text": [
      "<class 'pandas.core.frame.DataFrame'>\n",
      "RangeIndex: 73856 entries, 0 to 73855\n",
      "Data columns (total 3 columns):\n",
      " #   Column         Non-Null Count  Dtype  \n",
      "---  ------         --------------  -----  \n",
      " 0   movie_id       73856 non-null  object \n",
      " 1   averagerating  73856 non-null  float64\n",
      " 2   numvotes       73856 non-null  int64  \n",
      "dtypes: float64(1), int64(1), object(1)\n",
      "memory usage: 1.7+ MB\n"
     ]
    }
   ],
   "source": [
    "#get data type of ratings_df and non-null count\n",
    "ratings_df.info()"
   ]
  },
  {
   "cell_type": "code",
   "execution_count": 138,
   "id": "f047ba48",
   "metadata": {},
   "outputs": [
    {
     "data": {
      "text/html": [
       "<div>\n",
       "<style scoped>\n",
       "    .dataframe tbody tr th:only-of-type {\n",
       "        vertical-align: middle;\n",
       "    }\n",
       "\n",
       "    .dataframe tbody tr th {\n",
       "        vertical-align: top;\n",
       "    }\n",
       "\n",
       "    .dataframe thead th {\n",
       "        text-align: right;\n",
       "    }\n",
       "</style>\n",
       "<table border=\"1\" class=\"dataframe\">\n",
       "  <thead>\n",
       "    <tr style=\"text-align: right;\">\n",
       "      <th></th>\n",
       "      <th>id</th>\n",
       "      <th>release_date</th>\n",
       "      <th>movie</th>\n",
       "      <th>production_budget</th>\n",
       "      <th>domestic_gross</th>\n",
       "      <th>worldwide_gross</th>\n",
       "    </tr>\n",
       "  </thead>\n",
       "  <tbody>\n",
       "    <tr>\n",
       "      <th>0</th>\n",
       "      <td>1</td>\n",
       "      <td>Dec 18, 2009</td>\n",
       "      <td>Avatar</td>\n",
       "      <td>$425,000,000</td>\n",
       "      <td>$760,507,625</td>\n",
       "      <td>$2,776,345,279</td>\n",
       "    </tr>\n",
       "    <tr>\n",
       "      <th>1</th>\n",
       "      <td>2</td>\n",
       "      <td>May 20, 2011</td>\n",
       "      <td>Pirates of the Caribbean: On Stranger Tides</td>\n",
       "      <td>$410,600,000</td>\n",
       "      <td>$241,063,875</td>\n",
       "      <td>$1,045,663,875</td>\n",
       "    </tr>\n",
       "    <tr>\n",
       "      <th>2</th>\n",
       "      <td>3</td>\n",
       "      <td>Jun 7, 2019</td>\n",
       "      <td>Dark Phoenix</td>\n",
       "      <td>$350,000,000</td>\n",
       "      <td>$42,762,350</td>\n",
       "      <td>$149,762,350</td>\n",
       "    </tr>\n",
       "    <tr>\n",
       "      <th>3</th>\n",
       "      <td>4</td>\n",
       "      <td>May 1, 2015</td>\n",
       "      <td>Avengers: Age of Ultron</td>\n",
       "      <td>$330,600,000</td>\n",
       "      <td>$459,005,868</td>\n",
       "      <td>$1,403,013,963</td>\n",
       "    </tr>\n",
       "    <tr>\n",
       "      <th>4</th>\n",
       "      <td>5</td>\n",
       "      <td>Dec 15, 2017</td>\n",
       "      <td>Star Wars Ep. VIII: The Last Jedi</td>\n",
       "      <td>$317,000,000</td>\n",
       "      <td>$620,181,382</td>\n",
       "      <td>$1,316,721,747</td>\n",
       "    </tr>\n",
       "    <tr>\n",
       "      <th>...</th>\n",
       "      <td>...</td>\n",
       "      <td>...</td>\n",
       "      <td>...</td>\n",
       "      <td>...</td>\n",
       "      <td>...</td>\n",
       "      <td>...</td>\n",
       "    </tr>\n",
       "    <tr>\n",
       "      <th>5777</th>\n",
       "      <td>78</td>\n",
       "      <td>Dec 31, 2018</td>\n",
       "      <td>Red 11</td>\n",
       "      <td>$7,000</td>\n",
       "      <td>$0</td>\n",
       "      <td>$0</td>\n",
       "    </tr>\n",
       "    <tr>\n",
       "      <th>5778</th>\n",
       "      <td>79</td>\n",
       "      <td>Apr 2, 1999</td>\n",
       "      <td>Following</td>\n",
       "      <td>$6,000</td>\n",
       "      <td>$48,482</td>\n",
       "      <td>$240,495</td>\n",
       "    </tr>\n",
       "    <tr>\n",
       "      <th>5779</th>\n",
       "      <td>80</td>\n",
       "      <td>Jul 13, 2005</td>\n",
       "      <td>Return to the Land of Wonders</td>\n",
       "      <td>$5,000</td>\n",
       "      <td>$1,338</td>\n",
       "      <td>$1,338</td>\n",
       "    </tr>\n",
       "    <tr>\n",
       "      <th>5780</th>\n",
       "      <td>81</td>\n",
       "      <td>Sep 29, 2015</td>\n",
       "      <td>A Plague So Pleasant</td>\n",
       "      <td>$1,400</td>\n",
       "      <td>$0</td>\n",
       "      <td>$0</td>\n",
       "    </tr>\n",
       "    <tr>\n",
       "      <th>5781</th>\n",
       "      <td>82</td>\n",
       "      <td>Aug 5, 2005</td>\n",
       "      <td>My Date With Drew</td>\n",
       "      <td>$1,100</td>\n",
       "      <td>$181,041</td>\n",
       "      <td>$181,041</td>\n",
       "    </tr>\n",
       "  </tbody>\n",
       "</table>\n",
       "<p>5782 rows × 6 columns</p>\n",
       "</div>"
      ],
      "text/plain": [
       "      id  release_date                                        movie  \\\n",
       "0      1  Dec 18, 2009                                       Avatar   \n",
       "1      2  May 20, 2011  Pirates of the Caribbean: On Stranger Tides   \n",
       "2      3   Jun 7, 2019                                 Dark Phoenix   \n",
       "3      4   May 1, 2015                      Avengers: Age of Ultron   \n",
       "4      5  Dec 15, 2017            Star Wars Ep. VIII: The Last Jedi   \n",
       "...   ..           ...                                          ...   \n",
       "5777  78  Dec 31, 2018                                       Red 11   \n",
       "5778  79   Apr 2, 1999                                    Following   \n",
       "5779  80  Jul 13, 2005                Return to the Land of Wonders   \n",
       "5780  81  Sep 29, 2015                         A Plague So Pleasant   \n",
       "5781  82   Aug 5, 2005                            My Date With Drew   \n",
       "\n",
       "     production_budget domestic_gross worldwide_gross  \n",
       "0         $425,000,000   $760,507,625  $2,776,345,279  \n",
       "1         $410,600,000   $241,063,875  $1,045,663,875  \n",
       "2         $350,000,000    $42,762,350    $149,762,350  \n",
       "3         $330,600,000   $459,005,868  $1,403,013,963  \n",
       "4         $317,000,000   $620,181,382  $1,316,721,747  \n",
       "...                ...            ...             ...  \n",
       "5777            $7,000             $0              $0  \n",
       "5778            $6,000        $48,482        $240,495  \n",
       "5779            $5,000         $1,338          $1,338  \n",
       "5780            $1,400             $0              $0  \n",
       "5781            $1,100       $181,041        $181,041  \n",
       "\n",
       "[5782 rows x 6 columns]"
      ]
     },
     "execution_count": 138,
     "metadata": {},
     "output_type": "execute_result"
    }
   ],
   "source": [
    "# TN Movie budgets dataset\n",
    "tn_df = pd.read_csv('tn.movie_budgets.csv')\n",
    "tn_df"
   ]
  },
  {
   "cell_type": "code",
   "execution_count": 139,
   "id": "4920facc",
   "metadata": {},
   "outputs": [
    {
     "name": "stdout",
     "output_type": "stream",
     "text": [
      "<class 'pandas.core.frame.DataFrame'>\n",
      "RangeIndex: 5782 entries, 0 to 5781\n",
      "Data columns (total 6 columns):\n",
      " #   Column             Non-Null Count  Dtype \n",
      "---  ------             --------------  ----- \n",
      " 0   id                 5782 non-null   int64 \n",
      " 1   release_date       5782 non-null   object\n",
      " 2   movie              5782 non-null   object\n",
      " 3   production_budget  5782 non-null   object\n",
      " 4   domestic_gross     5782 non-null   object\n",
      " 5   worldwide_gross    5782 non-null   object\n",
      "dtypes: int64(1), object(5)\n",
      "memory usage: 271.2+ KB\n"
     ]
    }
   ],
   "source": [
    "#get data type of tn columns and non-null count\n",
    "tn_df.info()"
   ]
  },
  {
   "cell_type": "markdown",
   "id": "ba0b253a",
   "metadata": {},
   "source": [
    "## 2.1 Data Cleaning"
   ]
  },
  {
   "cell_type": "markdown",
   "id": "af37575d",
   "metadata": {},
   "source": [
    "### For the Box office csv dataset and IMDB basics_df table we are dropping the null values, to prepare the data for analysis."
   ]
  },
  {
   "cell_type": "code",
   "execution_count": 140,
   "id": "ddc13b8f",
   "metadata": {},
   "outputs": [
    {
     "name": "stdout",
     "output_type": "stream",
     "text": [
      "<class 'pandas.core.frame.DataFrame'>\n",
      "Int64Index: 2007 entries, 0 to 3353\n",
      "Data columns (total 5 columns):\n",
      " #   Column          Non-Null Count  Dtype  \n",
      "---  ------          --------------  -----  \n",
      " 0   title           2007 non-null   object \n",
      " 1   studio          2007 non-null   object \n",
      " 2   domestic_gross  2007 non-null   float64\n",
      " 3   foreign_gross   2007 non-null   object \n",
      " 4   year            2007 non-null   int64  \n",
      "dtypes: float64(1), int64(1), object(3)\n",
      "memory usage: 94.1+ KB\n"
     ]
    }
   ],
   "source": [
    "#dropping null values in box office movie dataset\n",
    "bom_df = bom_df.dropna()\n",
    "bom_df\n",
    "bom_df.info()\n"
   ]
  },
  {
   "cell_type": "code",
   "execution_count": 141,
   "id": "2bc92acd",
   "metadata": {},
   "outputs": [
    {
     "name": "stdout",
     "output_type": "stream",
     "text": [
      "<class 'pandas.core.frame.DataFrame'>\n",
      "Int64Index: 112232 entries, 0 to 146139\n",
      "Data columns (total 6 columns):\n",
      " #   Column           Non-Null Count   Dtype  \n",
      "---  ------           --------------   -----  \n",
      " 0   movie_id         112232 non-null  object \n",
      " 1   primary_title    112232 non-null  object \n",
      " 2   original_title   112232 non-null  object \n",
      " 3   start_year       112232 non-null  int64  \n",
      " 4   runtime_minutes  112232 non-null  float64\n",
      " 5   genres           112232 non-null  object \n",
      "dtypes: float64(1), int64(1), object(4)\n",
      "memory usage: 6.0+ MB\n"
     ]
    }
   ],
   "source": [
    "#dropping null values in basics table from IMDB Database\n",
    "basics_df = basics_df.dropna()\n",
    "basics_df.info()"
   ]
  },
  {
   "cell_type": "code",
   "execution_count": 142,
   "id": "acc0bd99",
   "metadata": {},
   "outputs": [
    {
     "name": "stdout",
     "output_type": "stream",
     "text": [
      "movie_id         0\n",
      "averagerating    0\n",
      "numvotes         0\n",
      "dtype: int64\n",
      "movie_id           0\n",
      "primary_title      0\n",
      "original_title     0\n",
      "start_year         0\n",
      "runtime_minutes    0\n",
      "genres             0\n",
      "dtype: int64\n"
     ]
    }
   ],
   "source": [
    "#show total of missing values from both tables\n",
    "print(ratings_df.isnull().sum())\n",
    "print(basics_df.isnull().sum())"
   ]
  },
  {
   "cell_type": "markdown",
   "id": "c198da2a",
   "metadata": {},
   "source": [
    "## 2.2 Data Wrangling"
   ]
  },
  {
   "cell_type": "markdown",
   "id": "7dd51fc5",
   "metadata": {},
   "source": [
    "### Create a unified movies_df table using inner join with basics_df and ratings_df for easier analysis.\n"
   ]
  },
  {
   "cell_type": "code",
   "execution_count": 143,
   "id": "c1d5d06a",
   "metadata": {},
   "outputs": [
    {
     "data": {
      "text/html": [
       "<div>\n",
       "<style scoped>\n",
       "    .dataframe tbody tr th:only-of-type {\n",
       "        vertical-align: middle;\n",
       "    }\n",
       "\n",
       "    .dataframe tbody tr th {\n",
       "        vertical-align: top;\n",
       "    }\n",
       "\n",
       "    .dataframe thead th {\n",
       "        text-align: right;\n",
       "    }\n",
       "</style>\n",
       "<table border=\"1\" class=\"dataframe\">\n",
       "  <thead>\n",
       "    <tr style=\"text-align: right;\">\n",
       "      <th></th>\n",
       "      <th>movie_id</th>\n",
       "      <th>primary_title</th>\n",
       "      <th>original_title</th>\n",
       "      <th>start_year</th>\n",
       "      <th>runtime_minutes</th>\n",
       "      <th>genres</th>\n",
       "      <th>averagerating</th>\n",
       "      <th>numvotes</th>\n",
       "    </tr>\n",
       "  </thead>\n",
       "  <tbody>\n",
       "    <tr>\n",
       "      <th>0</th>\n",
       "      <td>tt0063540</td>\n",
       "      <td>Sunghursh</td>\n",
       "      <td>Sunghursh</td>\n",
       "      <td>2013</td>\n",
       "      <td>175.0</td>\n",
       "      <td>Action,Crime,Drama</td>\n",
       "      <td>7.0</td>\n",
       "      <td>77</td>\n",
       "    </tr>\n",
       "    <tr>\n",
       "      <th>1</th>\n",
       "      <td>tt0066787</td>\n",
       "      <td>One Day Before the Rainy Season</td>\n",
       "      <td>Ashad Ka Ek Din</td>\n",
       "      <td>2019</td>\n",
       "      <td>114.0</td>\n",
       "      <td>Biography,Drama</td>\n",
       "      <td>7.2</td>\n",
       "      <td>43</td>\n",
       "    </tr>\n",
       "    <tr>\n",
       "      <th>2</th>\n",
       "      <td>tt0069049</td>\n",
       "      <td>The Other Side of the Wind</td>\n",
       "      <td>The Other Side of the Wind</td>\n",
       "      <td>2018</td>\n",
       "      <td>122.0</td>\n",
       "      <td>Drama</td>\n",
       "      <td>6.9</td>\n",
       "      <td>4517</td>\n",
       "    </tr>\n",
       "    <tr>\n",
       "      <th>3</th>\n",
       "      <td>tt0100275</td>\n",
       "      <td>The Wandering Soap Opera</td>\n",
       "      <td>La Telenovela Errante</td>\n",
       "      <td>2017</td>\n",
       "      <td>80.0</td>\n",
       "      <td>Comedy,Drama,Fantasy</td>\n",
       "      <td>6.5</td>\n",
       "      <td>119</td>\n",
       "    </tr>\n",
       "    <tr>\n",
       "      <th>4</th>\n",
       "      <td>tt0137204</td>\n",
       "      <td>Joe Finds Grace</td>\n",
       "      <td>Joe Finds Grace</td>\n",
       "      <td>2017</td>\n",
       "      <td>83.0</td>\n",
       "      <td>Adventure,Animation,Comedy</td>\n",
       "      <td>8.1</td>\n",
       "      <td>263</td>\n",
       "    </tr>\n",
       "    <tr>\n",
       "      <th>...</th>\n",
       "      <td>...</td>\n",
       "      <td>...</td>\n",
       "      <td>...</td>\n",
       "      <td>...</td>\n",
       "      <td>...</td>\n",
       "      <td>...</td>\n",
       "      <td>...</td>\n",
       "      <td>...</td>\n",
       "    </tr>\n",
       "    <tr>\n",
       "      <th>65715</th>\n",
       "      <td>tt9911774</td>\n",
       "      <td>Padmavyuhathile Abhimanyu</td>\n",
       "      <td>Padmavyuhathile Abhimanyu</td>\n",
       "      <td>2019</td>\n",
       "      <td>130.0</td>\n",
       "      <td>Drama</td>\n",
       "      <td>8.4</td>\n",
       "      <td>365</td>\n",
       "    </tr>\n",
       "    <tr>\n",
       "      <th>65716</th>\n",
       "      <td>tt9913056</td>\n",
       "      <td>Swarm Season</td>\n",
       "      <td>Swarm Season</td>\n",
       "      <td>2019</td>\n",
       "      <td>86.0</td>\n",
       "      <td>Documentary</td>\n",
       "      <td>6.2</td>\n",
       "      <td>5</td>\n",
       "    </tr>\n",
       "    <tr>\n",
       "      <th>65717</th>\n",
       "      <td>tt9913084</td>\n",
       "      <td>Diabolik sono io</td>\n",
       "      <td>Diabolik sono io</td>\n",
       "      <td>2019</td>\n",
       "      <td>75.0</td>\n",
       "      <td>Documentary</td>\n",
       "      <td>6.2</td>\n",
       "      <td>6</td>\n",
       "    </tr>\n",
       "    <tr>\n",
       "      <th>65718</th>\n",
       "      <td>tt9914286</td>\n",
       "      <td>Sokagin Çocuklari</td>\n",
       "      <td>Sokagin Çocuklari</td>\n",
       "      <td>2019</td>\n",
       "      <td>98.0</td>\n",
       "      <td>Drama,Family</td>\n",
       "      <td>8.7</td>\n",
       "      <td>136</td>\n",
       "    </tr>\n",
       "    <tr>\n",
       "      <th>65719</th>\n",
       "      <td>tt9916160</td>\n",
       "      <td>Drømmeland</td>\n",
       "      <td>Drømmeland</td>\n",
       "      <td>2019</td>\n",
       "      <td>72.0</td>\n",
       "      <td>Documentary</td>\n",
       "      <td>6.5</td>\n",
       "      <td>11</td>\n",
       "    </tr>\n",
       "  </tbody>\n",
       "</table>\n",
       "<p>65720 rows × 8 columns</p>\n",
       "</div>"
      ],
      "text/plain": [
       "        movie_id                    primary_title              original_title  \\\n",
       "0      tt0063540                        Sunghursh                   Sunghursh   \n",
       "1      tt0066787  One Day Before the Rainy Season             Ashad Ka Ek Din   \n",
       "2      tt0069049       The Other Side of the Wind  The Other Side of the Wind   \n",
       "3      tt0100275         The Wandering Soap Opera       La Telenovela Errante   \n",
       "4      tt0137204                  Joe Finds Grace             Joe Finds Grace   \n",
       "...          ...                              ...                         ...   \n",
       "65715  tt9911774        Padmavyuhathile Abhimanyu   Padmavyuhathile Abhimanyu   \n",
       "65716  tt9913056                     Swarm Season                Swarm Season   \n",
       "65717  tt9913084                 Diabolik sono io            Diabolik sono io   \n",
       "65718  tt9914286                Sokagin Çocuklari           Sokagin Çocuklari   \n",
       "65719  tt9916160                       Drømmeland                  Drømmeland   \n",
       "\n",
       "       start_year  runtime_minutes                      genres  averagerating  \\\n",
       "0            2013            175.0          Action,Crime,Drama            7.0   \n",
       "1            2019            114.0             Biography,Drama            7.2   \n",
       "2            2018            122.0                       Drama            6.9   \n",
       "3            2017             80.0        Comedy,Drama,Fantasy            6.5   \n",
       "4            2017             83.0  Adventure,Animation,Comedy            8.1   \n",
       "...           ...              ...                         ...            ...   \n",
       "65715        2019            130.0                       Drama            8.4   \n",
       "65716        2019             86.0                 Documentary            6.2   \n",
       "65717        2019             75.0                 Documentary            6.2   \n",
       "65718        2019             98.0                Drama,Family            8.7   \n",
       "65719        2019             72.0                 Documentary            6.5   \n",
       "\n",
       "       numvotes  \n",
       "0            77  \n",
       "1            43  \n",
       "2          4517  \n",
       "3           119  \n",
       "4           263  \n",
       "...         ...  \n",
       "65715       365  \n",
       "65716         5  \n",
       "65717         6  \n",
       "65718       136  \n",
       "65719        11  \n",
       "\n",
       "[65720 rows x 8 columns]"
      ]
     },
     "execution_count": 143,
     "metadata": {},
     "output_type": "execute_result"
    }
   ],
   "source": [
    "#merging on 'movie_id' which is similar in both tables\n",
    "movies_df = pd.merge(basics_df, ratings_df, on = \"movie_id\", how = \"inner\")\n",
    "movies_df"
   ]
  },
  {
   "cell_type": "code",
   "execution_count": 144,
   "id": "cdc408fb",
   "metadata": {},
   "outputs": [
    {
     "name": "stdout",
     "output_type": "stream",
     "text": [
      "<class 'pandas.core.frame.DataFrame'>\n",
      "Int64Index: 65720 entries, 0 to 65719\n",
      "Data columns (total 8 columns):\n",
      " #   Column           Non-Null Count  Dtype  \n",
      "---  ------           --------------  -----  \n",
      " 0   movie_id         65720 non-null  object \n",
      " 1   primary_title    65720 non-null  object \n",
      " 2   original_title   65720 non-null  object \n",
      " 3   start_year       65720 non-null  int64  \n",
      " 4   runtime_minutes  65720 non-null  float64\n",
      " 5   genres           65720 non-null  object \n",
      " 6   averagerating    65720 non-null  float64\n",
      " 7   numvotes         65720 non-null  int64  \n",
      "dtypes: float64(2), int64(2), object(4)\n",
      "memory usage: 4.5+ MB\n"
     ]
    }
   ],
   "source": [
    "#visualize new unified columns, their datatypes and non-null values\n",
    "movies_df.info()"
   ]
  },
  {
   "cell_type": "markdown",
   "id": "74ff491b",
   "metadata": {},
   "source": [
    "To accurately merge datasets from different sources (IMDb, Box Office Mojo, TN_Movie_Budgets), we need a common key — the movie title. However, title formatting often varies across datasets due to differences in capitalization, punctuation, and whitespace.\n",
    "\n",
    "In this step, we:\n",
    "\n",
    "* Convert all titles to lowercase\n",
    "\n",
    "* Strip any leading or trailing whitespace\n",
    "\n",
    "* This standardization allows for more accurate joins between datasets on title and release year."
   ]
  },
  {
   "cell_type": "code",
   "execution_count": 145,
   "id": "bf0030b4",
   "metadata": {},
   "outputs": [],
   "source": [
    "#Standardize the titles\n",
    "movies_df['original_title'] = movies_df['original_title'].str.lower().str.strip()\n",
    "bom_df['title'] = bom_df['title'].str.lower().str.strip()\n",
    "tn_df['movie'] = tn_df['movie'].str.lower().str.strip()\n"
   ]
  },
  {
   "cell_type": "code",
   "execution_count": 146,
   "id": "e715ad50",
   "metadata": {},
   "outputs": [
    {
     "data": {
      "text/html": [
       "<div>\n",
       "<style scoped>\n",
       "    .dataframe tbody tr th:only-of-type {\n",
       "        vertical-align: middle;\n",
       "    }\n",
       "\n",
       "    .dataframe tbody tr th {\n",
       "        vertical-align: top;\n",
       "    }\n",
       "\n",
       "    .dataframe thead th {\n",
       "        text-align: right;\n",
       "    }\n",
       "</style>\n",
       "<table border=\"1\" class=\"dataframe\">\n",
       "  <thead>\n",
       "    <tr style=\"text-align: right;\">\n",
       "      <th></th>\n",
       "      <th>title</th>\n",
       "      <th>studio</th>\n",
       "      <th>domestic_gross</th>\n",
       "      <th>foreign_gross</th>\n",
       "      <th>year</th>\n",
       "      <th>movie_id</th>\n",
       "      <th>primary_title</th>\n",
       "      <th>original_title</th>\n",
       "      <th>start_year</th>\n",
       "      <th>runtime_minutes</th>\n",
       "      <th>genres</th>\n",
       "      <th>averagerating</th>\n",
       "      <th>numvotes</th>\n",
       "    </tr>\n",
       "  </thead>\n",
       "  <tbody>\n",
       "    <tr>\n",
       "      <th>0</th>\n",
       "      <td>toy story 3</td>\n",
       "      <td>BV</td>\n",
       "      <td>415000000.0</td>\n",
       "      <td>652000000</td>\n",
       "      <td>2010</td>\n",
       "      <td>tt0435761</td>\n",
       "      <td>Toy Story 3</td>\n",
       "      <td>toy story 3</td>\n",
       "      <td>2010</td>\n",
       "      <td>103.0</td>\n",
       "      <td>Adventure,Animation,Comedy</td>\n",
       "      <td>8.3</td>\n",
       "      <td>682218</td>\n",
       "    </tr>\n",
       "    <tr>\n",
       "      <th>1</th>\n",
       "      <td>inception</td>\n",
       "      <td>WB</td>\n",
       "      <td>292600000.0</td>\n",
       "      <td>535700000</td>\n",
       "      <td>2010</td>\n",
       "      <td>tt1375666</td>\n",
       "      <td>Inception</td>\n",
       "      <td>inception</td>\n",
       "      <td>2010</td>\n",
       "      <td>148.0</td>\n",
       "      <td>Action,Adventure,Sci-Fi</td>\n",
       "      <td>8.8</td>\n",
       "      <td>1841066</td>\n",
       "    </tr>\n",
       "    <tr>\n",
       "      <th>2</th>\n",
       "      <td>shrek forever after</td>\n",
       "      <td>P/DW</td>\n",
       "      <td>238700000.0</td>\n",
       "      <td>513900000</td>\n",
       "      <td>2010</td>\n",
       "      <td>tt0892791</td>\n",
       "      <td>Shrek Forever After</td>\n",
       "      <td>shrek forever after</td>\n",
       "      <td>2010</td>\n",
       "      <td>93.0</td>\n",
       "      <td>Adventure,Animation,Comedy</td>\n",
       "      <td>6.3</td>\n",
       "      <td>167532</td>\n",
       "    </tr>\n",
       "    <tr>\n",
       "      <th>3</th>\n",
       "      <td>the twilight saga: eclipse</td>\n",
       "      <td>Sum.</td>\n",
       "      <td>300500000.0</td>\n",
       "      <td>398000000</td>\n",
       "      <td>2010</td>\n",
       "      <td>tt1325004</td>\n",
       "      <td>The Twilight Saga: Eclipse</td>\n",
       "      <td>the twilight saga: eclipse</td>\n",
       "      <td>2010</td>\n",
       "      <td>124.0</td>\n",
       "      <td>Adventure,Drama,Fantasy</td>\n",
       "      <td>5.0</td>\n",
       "      <td>211733</td>\n",
       "    </tr>\n",
       "    <tr>\n",
       "      <th>4</th>\n",
       "      <td>iron man 2</td>\n",
       "      <td>Par.</td>\n",
       "      <td>312400000.0</td>\n",
       "      <td>311500000</td>\n",
       "      <td>2010</td>\n",
       "      <td>tt1228705</td>\n",
       "      <td>Iron Man 2</td>\n",
       "      <td>iron man 2</td>\n",
       "      <td>2010</td>\n",
       "      <td>124.0</td>\n",
       "      <td>Action,Adventure,Sci-Fi</td>\n",
       "      <td>7.0</td>\n",
       "      <td>657690</td>\n",
       "    </tr>\n",
       "    <tr>\n",
       "      <th>...</th>\n",
       "      <td>...</td>\n",
       "      <td>...</td>\n",
       "      <td>...</td>\n",
       "      <td>...</td>\n",
       "      <td>...</td>\n",
       "      <td>...</td>\n",
       "      <td>...</td>\n",
       "      <td>...</td>\n",
       "      <td>...</td>\n",
       "      <td>...</td>\n",
       "      <td>...</td>\n",
       "      <td>...</td>\n",
       "      <td>...</td>\n",
       "    </tr>\n",
       "    <tr>\n",
       "      <th>1560</th>\n",
       "      <td>bilal: a new breed of hero</td>\n",
       "      <td>VE</td>\n",
       "      <td>491000.0</td>\n",
       "      <td>1700000</td>\n",
       "      <td>2018</td>\n",
       "      <td>tt3576728</td>\n",
       "      <td>Bilal: A New Breed of Hero</td>\n",
       "      <td>bilal: a new breed of hero</td>\n",
       "      <td>2015</td>\n",
       "      <td>105.0</td>\n",
       "      <td>Action,Adventure,Animation</td>\n",
       "      <td>8.0</td>\n",
       "      <td>16854</td>\n",
       "    </tr>\n",
       "    <tr>\n",
       "      <th>1561</th>\n",
       "      <td>i still see you</td>\n",
       "      <td>LGF</td>\n",
       "      <td>1400.0</td>\n",
       "      <td>1500000</td>\n",
       "      <td>2018</td>\n",
       "      <td>tt2160105</td>\n",
       "      <td>I Still See You</td>\n",
       "      <td>i still see you</td>\n",
       "      <td>2018</td>\n",
       "      <td>98.0</td>\n",
       "      <td>Fantasy,Thriller</td>\n",
       "      <td>5.7</td>\n",
       "      <td>5010</td>\n",
       "    </tr>\n",
       "    <tr>\n",
       "      <th>1562</th>\n",
       "      <td>the catcher was a spy</td>\n",
       "      <td>IFC</td>\n",
       "      <td>725000.0</td>\n",
       "      <td>229000</td>\n",
       "      <td>2018</td>\n",
       "      <td>tt4602066</td>\n",
       "      <td>The Catcher Was a Spy</td>\n",
       "      <td>the catcher was a spy</td>\n",
       "      <td>2018</td>\n",
       "      <td>98.0</td>\n",
       "      <td>Biography,Drama,War</td>\n",
       "      <td>6.2</td>\n",
       "      <td>4653</td>\n",
       "    </tr>\n",
       "    <tr>\n",
       "      <th>1563</th>\n",
       "      <td>time freak</td>\n",
       "      <td>Grindstone</td>\n",
       "      <td>10000.0</td>\n",
       "      <td>256000</td>\n",
       "      <td>2018</td>\n",
       "      <td>tt6769280</td>\n",
       "      <td>Time Freak</td>\n",
       "      <td>time freak</td>\n",
       "      <td>2018</td>\n",
       "      <td>104.0</td>\n",
       "      <td>Comedy,Drama,Romance</td>\n",
       "      <td>5.7</td>\n",
       "      <td>3455</td>\n",
       "    </tr>\n",
       "    <tr>\n",
       "      <th>1564</th>\n",
       "      <td>antonio lopez 1970: sex fashion &amp; disco</td>\n",
       "      <td>FM</td>\n",
       "      <td>43200.0</td>\n",
       "      <td>30000</td>\n",
       "      <td>2018</td>\n",
       "      <td>tt5792490</td>\n",
       "      <td>Antonio Lopez 1970: Sex Fashion &amp; Disco</td>\n",
       "      <td>antonio lopez 1970: sex fashion &amp; disco</td>\n",
       "      <td>2017</td>\n",
       "      <td>95.0</td>\n",
       "      <td>Biography,Documentary</td>\n",
       "      <td>6.5</td>\n",
       "      <td>102</td>\n",
       "    </tr>\n",
       "  </tbody>\n",
       "</table>\n",
       "<p>1565 rows × 13 columns</p>\n",
       "</div>"
      ],
      "text/plain": [
       "                                        title      studio  domestic_gross  \\\n",
       "0                                 toy story 3          BV     415000000.0   \n",
       "1                                   inception          WB     292600000.0   \n",
       "2                         shrek forever after        P/DW     238700000.0   \n",
       "3                  the twilight saga: eclipse        Sum.     300500000.0   \n",
       "4                                  iron man 2        Par.     312400000.0   \n",
       "...                                       ...         ...             ...   \n",
       "1560               bilal: a new breed of hero          VE        491000.0   \n",
       "1561                          i still see you         LGF          1400.0   \n",
       "1562                    the catcher was a spy         IFC        725000.0   \n",
       "1563                               time freak  Grindstone         10000.0   \n",
       "1564  antonio lopez 1970: sex fashion & disco          FM         43200.0   \n",
       "\n",
       "     foreign_gross  year   movie_id                            primary_title  \\\n",
       "0        652000000  2010  tt0435761                              Toy Story 3   \n",
       "1        535700000  2010  tt1375666                                Inception   \n",
       "2        513900000  2010  tt0892791                      Shrek Forever After   \n",
       "3        398000000  2010  tt1325004               The Twilight Saga: Eclipse   \n",
       "4        311500000  2010  tt1228705                               Iron Man 2   \n",
       "...            ...   ...        ...                                      ...   \n",
       "1560       1700000  2018  tt3576728               Bilal: A New Breed of Hero   \n",
       "1561       1500000  2018  tt2160105                          I Still See You   \n",
       "1562        229000  2018  tt4602066                    The Catcher Was a Spy   \n",
       "1563        256000  2018  tt6769280                               Time Freak   \n",
       "1564         30000  2018  tt5792490  Antonio Lopez 1970: Sex Fashion & Disco   \n",
       "\n",
       "                               original_title  start_year  runtime_minutes  \\\n",
       "0                                 toy story 3        2010            103.0   \n",
       "1                                   inception        2010            148.0   \n",
       "2                         shrek forever after        2010             93.0   \n",
       "3                  the twilight saga: eclipse        2010            124.0   \n",
       "4                                  iron man 2        2010            124.0   \n",
       "...                                       ...         ...              ...   \n",
       "1560               bilal: a new breed of hero        2015            105.0   \n",
       "1561                          i still see you        2018             98.0   \n",
       "1562                    the catcher was a spy        2018             98.0   \n",
       "1563                               time freak        2018            104.0   \n",
       "1564  antonio lopez 1970: sex fashion & disco        2017             95.0   \n",
       "\n",
       "                          genres  averagerating  numvotes  \n",
       "0     Adventure,Animation,Comedy            8.3    682218  \n",
       "1        Action,Adventure,Sci-Fi            8.8   1841066  \n",
       "2     Adventure,Animation,Comedy            6.3    167532  \n",
       "3        Adventure,Drama,Fantasy            5.0    211733  \n",
       "4        Action,Adventure,Sci-Fi            7.0    657690  \n",
       "...                          ...            ...       ...  \n",
       "1560  Action,Adventure,Animation            8.0     16854  \n",
       "1561            Fantasy,Thriller            5.7      5010  \n",
       "1562         Biography,Drama,War            6.2      4653  \n",
       "1563        Comedy,Drama,Romance            5.7      3455  \n",
       "1564       Biography,Documentary            6.5       102  \n",
       "\n",
       "[1565 rows x 13 columns]"
      ]
     },
     "execution_count": 146,
     "metadata": {},
     "output_type": "execute_result"
    }
   ],
   "source": [
    "#Merge Box Office with IMDB (inner join on titles)\n",
    "bom_imdb_df = pd.merge(\n",
    "    bom_df, \n",
    "    movies_df, \n",
    "    left_on='title', \n",
    "    right_on='original_title', \n",
    "    how='inner'  # or 'left' if you want to keep all from BOM\n",
    ")\n",
    "bom_imdb_df\n"
   ]
  },
  {
   "cell_type": "code",
   "execution_count": 147,
   "id": "dd4f71aa",
   "metadata": {},
   "outputs": [
    {
     "name": "stdout",
     "output_type": "stream",
     "text": [
      "<class 'pandas.core.frame.DataFrame'>\n",
      "Int64Index: 1176 entries, 0 to 1175\n",
      "Data columns (total 19 columns):\n",
      " #   Column             Non-Null Count  Dtype  \n",
      "---  ------             --------------  -----  \n",
      " 0   title              1176 non-null   object \n",
      " 1   studio             1176 non-null   object \n",
      " 2   domestic_gross_x   1176 non-null   float64\n",
      " 3   foreign_gross      1176 non-null   object \n",
      " 4   year               1176 non-null   int64  \n",
      " 5   movie_id           1176 non-null   object \n",
      " 6   primary_title      1176 non-null   object \n",
      " 7   original_title     1176 non-null   object \n",
      " 8   start_year         1176 non-null   int64  \n",
      " 9   runtime_minutes    1176 non-null   float64\n",
      " 10  genres             1176 non-null   object \n",
      " 11  averagerating      1176 non-null   float64\n",
      " 12  numvotes           1176 non-null   int64  \n",
      " 13  id                 1176 non-null   int64  \n",
      " 14  release_date       1176 non-null   object \n",
      " 15  movie              1176 non-null   object \n",
      " 16  production_budget  1176 non-null   object \n",
      " 17  domestic_gross_y   1176 non-null   object \n",
      " 18  worldwide_gross    1176 non-null   object \n",
      "dtypes: float64(3), int64(4), object(12)\n",
      "memory usage: 183.8+ KB\n"
     ]
    }
   ],
   "source": [
    "#Merge with TN movie budgets\n",
    "full_df = pd.merge(\n",
    "    bom_imdb_df, \n",
    "    tn_df, \n",
    "    left_on='title', \n",
    "    right_on='movie', \n",
    "    how='inner'  \n",
    ")\n",
    "full_df\n",
    "full_df.info() #see the full_df columns\n"
   ]
  },
  {
   "cell_type": "markdown",
   "id": "c2775ee9",
   "metadata": {},
   "source": [
    "### Selecting relevant columns for analysis\n",
    "* Columns remained with include : **title, year, runtime_minutes, genres, average_rating, release_date, production_budget, domestic_gross and worldwide gross**\n",
    "* Rationale - We establish that these columns are the most relevant in the solutions we aim to provide to the client."
   ]
  },
  {
   "cell_type": "code",
   "execution_count": 148,
   "id": "5fe3d020",
   "metadata": {},
   "outputs": [],
   "source": [
    "full_df.drop(columns = [\"studio\", \"id\", \"movie\", \"domestic_gross_x\", \"foreign_gross\", \"title\", \"movie_id\", \n",
    "                        \"primary_title\", \"original_title\", \"start_year\", \"numvotes\", \"movie\"], inplace = True)\n"
   ]
  },
  {
   "cell_type": "code",
   "execution_count": 149,
   "id": "1e84acb3",
   "metadata": {},
   "outputs": [
    {
     "name": "stdout",
     "output_type": "stream",
     "text": [
      "<class 'pandas.core.frame.DataFrame'>\n",
      "Int64Index: 1176 entries, 0 to 1175\n",
      "Data columns (total 8 columns):\n",
      " #   Column             Non-Null Count  Dtype  \n",
      "---  ------             --------------  -----  \n",
      " 0   year               1176 non-null   int64  \n",
      " 1   runtime_minutes    1176 non-null   float64\n",
      " 2   genres             1176 non-null   object \n",
      " 3   averagerating      1176 non-null   float64\n",
      " 4   release_date       1176 non-null   object \n",
      " 5   production_budget  1176 non-null   object \n",
      " 6   domestic_gross_y   1176 non-null   object \n",
      " 7   worldwide_gross    1176 non-null   object \n",
      "dtypes: float64(2), int64(1), object(5)\n",
      "memory usage: 82.7+ KB\n"
     ]
    }
   ],
   "source": [
    "full_df.info()"
   ]
  },
  {
   "cell_type": "markdown",
   "id": "d3cae1d2",
   "metadata": {},
   "source": [
    "## 3. Data Analysis"
   ]
  },
  {
   "cell_type": "markdown",
   "id": "64393287",
   "metadata": {},
   "source": [
    "Having cleaned the data, we can begin to analyze it to generate insights\n",
    "## Research Questions:\n",
    "3.1. Do movies with different genres have significantly different average ROI?  \n",
    "3.2. Release Seasons(q1,q2,q3,q4): Which months do movies do best?  \n",
    "3.3. Genre trends: Which genres are most profitable?    \n",
    "3.4. Runtime, Ratings, and Revenue: Is there a correlation between rating or length and revenue?   \n",
    "  \n",
    "\n"
   ]
  },
  {
   "cell_type": "markdown",
   "id": "5ad19f34",
   "metadata": {},
   "source": [
    "### 3.1 Do movies with different genres have significantly different average ROI?"
   ]
  },
  {
   "cell_type": "code",
   "execution_count": 150,
   "id": "fc8c1313",
   "metadata": {},
   "outputs": [
    {
     "name": "stdout",
     "output_type": "stream",
     "text": [
      "<class 'pandas.core.frame.DataFrame'>\n",
      "Int64Index: 1176 entries, 0 to 1175\n",
      "Data columns (total 8 columns):\n",
      " #   Column             Non-Null Count  Dtype  \n",
      "---  ------             --------------  -----  \n",
      " 0   year               1176 non-null   int64  \n",
      " 1   runtime_minutes    1176 non-null   float64\n",
      " 2   genres             1176 non-null   object \n",
      " 3   averagerating      1176 non-null   float64\n",
      " 4   release_date       1176 non-null   object \n",
      " 5   production_budget  1176 non-null   object \n",
      " 6   domestic_gross_y   1176 non-null   object \n",
      " 7   worldwide_gross    1176 non-null   object \n",
      "dtypes: float64(2), int64(1), object(5)\n",
      "memory usage: 82.7+ KB\n"
     ]
    }
   ],
   "source": [
    "full_df.info()"
   ]
  },
  {
   "cell_type": "code",
   "execution_count": 151,
   "id": "feac0e0c",
   "metadata": {},
   "outputs": [],
   "source": [
    "# define a function to convert the object-type columns to integers\n",
    "def clean_money(value):\n",
    "    return int(value.replace(\"$\", \"\").replace(\",\", \"\"))"
   ]
  },
  {
   "cell_type": "code",
   "execution_count": 152,
   "id": "78f92637",
   "metadata": {},
   "outputs": [
    {
     "name": "stdout",
     "output_type": "stream",
     "text": [
      "<class 'pandas.core.frame.DataFrame'>\n",
      "Int64Index: 1176 entries, 0 to 1175\n",
      "Data columns (total 8 columns):\n",
      " #   Column             Non-Null Count  Dtype  \n",
      "---  ------             --------------  -----  \n",
      " 0   year               1176 non-null   int64  \n",
      " 1   runtime_minutes    1176 non-null   float64\n",
      " 2   genres             1176 non-null   object \n",
      " 3   averagerating      1176 non-null   float64\n",
      " 4   release_date       1176 non-null   object \n",
      " 5   production_budget  1176 non-null   int64  \n",
      " 6   domestic_gross_y   1176 non-null   object \n",
      " 7   worldwide_gross    1176 non-null   int64  \n",
      "dtypes: float64(2), int64(3), object(3)\n",
      "memory usage: 82.7+ KB\n"
     ]
    }
   ],
   "source": [
    "# cleaning currency columns\n",
    "full_df[\"worldwide_gross\"] = full_df[\"worldwide_gross\"].apply(clean_money)\n",
    "full_df[\"production_budget\"] = full_df[\"production_budget\"].apply(clean_money)\n",
    "\n",
    "full_df.info()  "
   ]
  },
  {
   "cell_type": "code",
   "execution_count": 153,
   "id": "4258213f",
   "metadata": {},
   "outputs": [
    {
     "data": {
      "text/html": [
       "<div>\n",
       "<style scoped>\n",
       "    .dataframe tbody tr th:only-of-type {\n",
       "        vertical-align: middle;\n",
       "    }\n",
       "\n",
       "    .dataframe tbody tr th {\n",
       "        vertical-align: top;\n",
       "    }\n",
       "\n",
       "    .dataframe thead th {\n",
       "        text-align: right;\n",
       "    }\n",
       "</style>\n",
       "<table border=\"1\" class=\"dataframe\">\n",
       "  <thead>\n",
       "    <tr style=\"text-align: right;\">\n",
       "      <th></th>\n",
       "      <th>year</th>\n",
       "      <th>runtime_minutes</th>\n",
       "      <th>genres</th>\n",
       "      <th>averagerating</th>\n",
       "      <th>release_date</th>\n",
       "      <th>production_budget</th>\n",
       "      <th>domestic_gross_y</th>\n",
       "      <th>worldwide_gross</th>\n",
       "      <th>ROI</th>\n",
       "    </tr>\n",
       "  </thead>\n",
       "  <tbody>\n",
       "    <tr>\n",
       "      <th>0</th>\n",
       "      <td>2010</td>\n",
       "      <td>103.0</td>\n",
       "      <td>Adventure,Animation,Comedy</td>\n",
       "      <td>8.3</td>\n",
       "      <td>Jun 18, 2010</td>\n",
       "      <td>200000000</td>\n",
       "      <td>$415,004,880</td>\n",
       "      <td>1068879522</td>\n",
       "      <td>4.344398</td>\n",
       "    </tr>\n",
       "    <tr>\n",
       "      <th>1</th>\n",
       "      <td>2010</td>\n",
       "      <td>148.0</td>\n",
       "      <td>Action,Adventure,Sci-Fi</td>\n",
       "      <td>8.8</td>\n",
       "      <td>Jul 16, 2010</td>\n",
       "      <td>160000000</td>\n",
       "      <td>$292,576,195</td>\n",
       "      <td>835524642</td>\n",
       "      <td>4.222029</td>\n",
       "    </tr>\n",
       "    <tr>\n",
       "      <th>2</th>\n",
       "      <td>2010</td>\n",
       "      <td>93.0</td>\n",
       "      <td>Adventure,Animation,Comedy</td>\n",
       "      <td>6.3</td>\n",
       "      <td>May 21, 2010</td>\n",
       "      <td>165000000</td>\n",
       "      <td>$238,736,787</td>\n",
       "      <td>756244673</td>\n",
       "      <td>3.583301</td>\n",
       "    </tr>\n",
       "    <tr>\n",
       "      <th>3</th>\n",
       "      <td>2010</td>\n",
       "      <td>124.0</td>\n",
       "      <td>Adventure,Drama,Fantasy</td>\n",
       "      <td>5.0</td>\n",
       "      <td>Jun 30, 2010</td>\n",
       "      <td>68000000</td>\n",
       "      <td>$300,531,751</td>\n",
       "      <td>706102828</td>\n",
       "      <td>9.383865</td>\n",
       "    </tr>\n",
       "    <tr>\n",
       "      <th>4</th>\n",
       "      <td>2010</td>\n",
       "      <td>124.0</td>\n",
       "      <td>Action,Adventure,Sci-Fi</td>\n",
       "      <td>7.0</td>\n",
       "      <td>May 7, 2010</td>\n",
       "      <td>170000000</td>\n",
       "      <td>$312,433,331</td>\n",
       "      <td>621156389</td>\n",
       "      <td>2.653861</td>\n",
       "    </tr>\n",
       "  </tbody>\n",
       "</table>\n",
       "</div>"
      ],
      "text/plain": [
       "   year  runtime_minutes                      genres  averagerating  \\\n",
       "0  2010            103.0  Adventure,Animation,Comedy            8.3   \n",
       "1  2010            148.0     Action,Adventure,Sci-Fi            8.8   \n",
       "2  2010             93.0  Adventure,Animation,Comedy            6.3   \n",
       "3  2010            124.0     Adventure,Drama,Fantasy            5.0   \n",
       "4  2010            124.0     Action,Adventure,Sci-Fi            7.0   \n",
       "\n",
       "   release_date  production_budget domestic_gross_y  worldwide_gross       ROI  \n",
       "0  Jun 18, 2010          200000000     $415,004,880       1068879522  4.344398  \n",
       "1  Jul 16, 2010          160000000     $292,576,195        835524642  4.222029  \n",
       "2  May 21, 2010          165000000     $238,736,787        756244673  3.583301  \n",
       "3  Jun 30, 2010           68000000     $300,531,751        706102828  9.383865  \n",
       "4   May 7, 2010          170000000     $312,433,331        621156389  2.653861  "
      ]
     },
     "execution_count": 153,
     "metadata": {},
     "output_type": "execute_result"
    }
   ],
   "source": [
    "# calcute ROI\n",
    "full_df['ROI'] = (full_df['worldwide_gross'] - full_df['production_budget']) / full_df['production_budget']\n",
    "\n",
    "\n",
    "full_df = full_df[(full_df['production_budget'] > 0) & (full_df['worldwide_gross'] > 0)]\n",
    "\n",
    "full_df.head()"
   ]
  },
  {
   "cell_type": "code",
   "execution_count": 154,
   "id": "a7066ddb",
   "metadata": {},
   "outputs": [
    {
     "name": "stdout",
     "output_type": "stream",
     "text": [
      "ANOVA F-statistic: 8.08\n",
      "P-value: 0.00000\n"
     ]
    },
    {
     "data": {
      "image/png": "[encoded data removed]",
      "text/plain": [
       "<Figure size 864x432 with 1 Axes>"
      ]
     },
     "metadata": {
      "needs_background": "light"
     },
     "output_type": "display_data"
    }
   ],
   "source": [
    "from scipy.stats import f_oneway\n",
    "\n",
    "full_df['primary_genre'] = full_df['genres'].apply(lambda x: x.split(',')[0] if pd.notnull(x) else 'Unknown')\n",
    "\n",
    "# ANOVA test\n",
    "roi_by_genre = full_df.groupby('primary_genre')['ROI']\n",
    "roi_lists = [group.dropna().values for name, group in roi_by_genre]\n",
    "f_stat, p_value = f_oneway(*roi_lists)\n",
    "\n",
    "# Print test result\n",
    "print(f\"ANOVA F-statistic: {f_stat:.2f}\")\n",
    "print(f\"P-value: {p_value:.5f}\")\n",
    "\n",
    "# Visualization\n",
    "plt.figure(figsize=(12, 6))\n",
    "sns.boxplot(x='primary_genre', y='ROI', data=full_df)\n",
    "plt.xticks(rotation=45)\n",
    "plt.title('Distribution of ROI by Movie Genre')\n",
    "plt.ylabel('Return on Investment (ROI)')\n",
    "plt.xlabel('Primary Genre')\n",
    "plt.tight_layout()\n",
    "plt.show()"
   ]
  },
  {
   "cell_type": "markdown",
   "id": "01e6e427",
   "metadata": {},
   "source": [
    "Statistical Conclusion\n",
    "- ANOVA F-statistic:  8.08\n",
    "\n",
    "- P-value < 0.00001\n",
    "\n",
    "This means:\n",
    "**There is a statistical signicant difference in ROI between at least some movie genres.**"
   ]
  },
  {
   "cell_type": "markdown",
   "id": "d4428df5",
   "metadata": {},
   "source": [
    "Insights from the Boxplot:\n",
    "- One genre (likely Comedy or Horror based on typical trends) has a much wider ROI range and higher median, with many outliers (potential hits with massive ROI).\n",
    "\n",
    "- Several genres are clustered with low ROI, suggesting low profitability or high risk.\n"
   ]
  },
  {
   "cell_type": "markdown",
   "id": "0fb26b45",
   "metadata": {},
   "source": [
    "### 3.2 Which months do movies do best?"
   ]
  },
  {
   "cell_type": "code",
   "execution_count": 155,
   "id": "78fe2cd8",
   "metadata": {},
   "outputs": [
    {
     "data": {
      "image/png": "[encoded data removed]",
      "text/plain": [
       "<Figure size 576x360 with 1 Axes>"
      ]
     },
     "metadata": {
      "needs_background": "light"
     },
     "output_type": "display_data"
    }
   ],
   "source": [
    "# Clean worldwide gross\n",
    "def parse_currency(x):\n",
    "    return float(str(x).replace('$', '').replace(',', '').strip()) if pd.notnull(x) else None\n",
    "\n",
    "full_df['worldwide_gross'] = full_df['worldwide_gross'].apply(parse_currency)\n",
    "\n",
    "# Parse release month from release_date\n",
    "full_df['release_date'] = pd.to_datetime(full_df['release_date'], errors='coerce')\n",
    "full_df['release_month'] = full_df['release_date'].dt.month\n",
    "\n",
    "# Map months to quarters\n",
    "def month_to_quarter(month):\n",
    "    if month in [1, 2, 3]: return 'Q1'\n",
    "    elif month in [4, 5, 6]: return 'Q2'\n",
    "    elif month in [7, 8, 9]: return 'Q3'\n",
    "    elif month in [10, 11, 12]: return 'Q4'\n",
    "    else: return 'Unknown'\n",
    "\n",
    "full_df['release_quarter'] = full_df['release_month'].apply(month_to_quarter)\n",
    "\n",
    "# Drop missing values\n",
    "full_df = full_df.dropna(subset=['worldwide_gross', 'release_quarter'])\n",
    "\n",
    "# Group by quarter and calculate mean revenue\n",
    "revenue_by_quarter = full_df.groupby('release_quarter')['worldwide_gross'].mean().reindex(['Q1', 'Q2', 'Q3', 'Q4'])\n",
    "\n",
    "# Plot results\n",
    "plt.figure(figsize=(8, 5))\n",
    "sns.barplot(x=revenue_by_quarter.index, y=revenue_by_quarter.values, hue=revenue_by_quarter.index, palette='viridis')\n",
    "plt.title('Average Worldwide Gross by Release Quarter')\n",
    "plt.ylabel('Average Worldwide Gross ($)')\n",
    "plt.xlabel('Release Quarter')\n",
    "plt.tight_layout()\n",
    "plt.show()"
   ]
  },
  {
   "cell_type": "markdown",
   "id": "b1670ad7",
   "metadata": {},
   "source": [
    "From the bar chart above:\n",
    "* Q2 (April–June) has the highest average worldwide gross, standing out as the most profitable release window.\n",
    "* Q1 (Jan–Mar) and Q3 (Jul–Sep) show lower average gross figures.\n",
    "* Q4 (Oct–Dec) performs better than Q1 and Q3 but still trails Q2."
   ]
  },
  {
   "cell_type": "markdown",
   "id": "d0492691",
   "metadata": {},
   "source": [
    "### 3.3. Genre trends: Which genres are most profitable?"
   ]
  },
  {
   "cell_type": "markdown",
   "id": "402a04b8",
   "metadata": {},
   "source": [
    "#### a) To determine profitability, it is important to derive each genre's profits by subtracting the production budget from its world_wide gross"
   ]
  },
  {
   "cell_type": "code",
   "execution_count": 156,
   "id": "5af92580",
   "metadata": {},
   "outputs": [],
   "source": [
    "# Profit calculation\n",
    "full_df['profit'] = (full_df['worldwide_gross'] - full_df['production_budget'])"
   ]
  },
  {
   "cell_type": "code",
   "execution_count": 157,
   "id": "adac3549",
   "metadata": {},
   "outputs": [
    {
     "data": {
      "text/html": [
       "<div>\n",
       "<style scoped>\n",
       "    .dataframe tbody tr th:only-of-type {\n",
       "        vertical-align: middle;\n",
       "    }\n",
       "\n",
       "    .dataframe tbody tr th {\n",
       "        vertical-align: top;\n",
       "    }\n",
       "\n",
       "    .dataframe thead th {\n",
       "        text-align: right;\n",
       "    }\n",
       "</style>\n",
       "<table border=\"1\" class=\"dataframe\">\n",
       "  <thead>\n",
       "    <tr style=\"text-align: right;\">\n",
       "      <th></th>\n",
       "      <th>year</th>\n",
       "      <th>runtime_minutes</th>\n",
       "      <th>genres</th>\n",
       "      <th>averagerating</th>\n",
       "      <th>release_date</th>\n",
       "      <th>production_budget</th>\n",
       "      <th>domestic_gross_y</th>\n",
       "      <th>worldwide_gross</th>\n",
       "      <th>ROI</th>\n",
       "      <th>primary_genre</th>\n",
       "      <th>release_month</th>\n",
       "      <th>release_quarter</th>\n",
       "      <th>profit</th>\n",
       "    </tr>\n",
       "  </thead>\n",
       "  <tbody>\n",
       "    <tr>\n",
       "      <th>0</th>\n",
       "      <td>2010</td>\n",
       "      <td>103.0</td>\n",
       "      <td>Adventure,Animation,Comedy</td>\n",
       "      <td>8.3</td>\n",
       "      <td>2010-06-18</td>\n",
       "      <td>200000000</td>\n",
       "      <td>415004880</td>\n",
       "      <td>1068879522</td>\n",
       "      <td>4.344398</td>\n",
       "      <td>Adventure</td>\n",
       "      <td>6</td>\n",
       "      <td>Q2</td>\n",
       "      <td>868879522</td>\n",
       "    </tr>\n",
       "    <tr>\n",
       "      <th>1</th>\n",
       "      <td>2010</td>\n",
       "      <td>148.0</td>\n",
       "      <td>Action,Adventure,Sci-Fi</td>\n",
       "      <td>8.8</td>\n",
       "      <td>2010-07-16</td>\n",
       "      <td>160000000</td>\n",
       "      <td>292576195</td>\n",
       "      <td>835524642</td>\n",
       "      <td>4.222029</td>\n",
       "      <td>Action</td>\n",
       "      <td>7</td>\n",
       "      <td>Q3</td>\n",
       "      <td>675524642</td>\n",
       "    </tr>\n",
       "    <tr>\n",
       "      <th>2</th>\n",
       "      <td>2010</td>\n",
       "      <td>93.0</td>\n",
       "      <td>Adventure,Animation,Comedy</td>\n",
       "      <td>6.3</td>\n",
       "      <td>2010-05-21</td>\n",
       "      <td>165000000</td>\n",
       "      <td>238736787</td>\n",
       "      <td>756244673</td>\n",
       "      <td>3.583301</td>\n",
       "      <td>Adventure</td>\n",
       "      <td>5</td>\n",
       "      <td>Q2</td>\n",
       "      <td>591244673</td>\n",
       "    </tr>\n",
       "    <tr>\n",
       "      <th>3</th>\n",
       "      <td>2010</td>\n",
       "      <td>124.0</td>\n",
       "      <td>Adventure,Drama,Fantasy</td>\n",
       "      <td>5.0</td>\n",
       "      <td>2010-06-30</td>\n",
       "      <td>68000000</td>\n",
       "      <td>300531751</td>\n",
       "      <td>706102828</td>\n",
       "      <td>9.383865</td>\n",
       "      <td>Adventure</td>\n",
       "      <td>6</td>\n",
       "      <td>Q2</td>\n",
       "      <td>638102828</td>\n",
       "    </tr>\n",
       "    <tr>\n",
       "      <th>4</th>\n",
       "      <td>2010</td>\n",
       "      <td>124.0</td>\n",
       "      <td>Action,Adventure,Sci-Fi</td>\n",
       "      <td>7.0</td>\n",
       "      <td>2010-05-07</td>\n",
       "      <td>170000000</td>\n",
       "      <td>312433331</td>\n",
       "      <td>621156389</td>\n",
       "      <td>2.653861</td>\n",
       "      <td>Action</td>\n",
       "      <td>5</td>\n",
       "      <td>Q2</td>\n",
       "      <td>451156389</td>\n",
       "    </tr>\n",
       "    <tr>\n",
       "      <th>...</th>\n",
       "      <td>...</td>\n",
       "      <td>...</td>\n",
       "      <td>...</td>\n",
       "      <td>...</td>\n",
       "      <td>...</td>\n",
       "      <td>...</td>\n",
       "      <td>...</td>\n",
       "      <td>...</td>\n",
       "      <td>...</td>\n",
       "      <td>...</td>\n",
       "      <td>...</td>\n",
       "      <td>...</td>\n",
       "      <td>...</td>\n",
       "    </tr>\n",
       "    <tr>\n",
       "      <th>1171</th>\n",
       "      <td>2018</td>\n",
       "      <td>45.0</td>\n",
       "      <td>Drama,Music</td>\n",
       "      <td>8.6</td>\n",
       "      <td>2018-08-31</td>\n",
       "      <td>30000000</td>\n",
       "      <td>5718096</td>\n",
       "      <td>10096821</td>\n",
       "      <td>-0.663439</td>\n",
       "      <td>Drama</td>\n",
       "      <td>8</td>\n",
       "      <td>Q3</td>\n",
       "      <td>-19903179</td>\n",
       "    </tr>\n",
       "    <tr>\n",
       "      <th>1172</th>\n",
       "      <td>2018</td>\n",
       "      <td>102.0</td>\n",
       "      <td>Action,Drama,Sci-Fi</td>\n",
       "      <td>5.7</td>\n",
       "      <td>2018-08-31</td>\n",
       "      <td>30000000</td>\n",
       "      <td>5718096</td>\n",
       "      <td>10096821</td>\n",
       "      <td>-0.663439</td>\n",
       "      <td>Action</td>\n",
       "      <td>8</td>\n",
       "      <td>Q3</td>\n",
       "      <td>-19903179</td>\n",
       "    </tr>\n",
       "    <tr>\n",
       "      <th>1173</th>\n",
       "      <td>2018</td>\n",
       "      <td>152.0</td>\n",
       "      <td>Fantasy,Horror,Mystery</td>\n",
       "      <td>6.8</td>\n",
       "      <td>2018-10-26</td>\n",
       "      <td>20000000</td>\n",
       "      <td>2483472</td>\n",
       "      <td>7034615</td>\n",
       "      <td>-0.648269</td>\n",
       "      <td>Fantasy</td>\n",
       "      <td>10</td>\n",
       "      <td>Q4</td>\n",
       "      <td>-12965385</td>\n",
       "    </tr>\n",
       "    <tr>\n",
       "      <th>1174</th>\n",
       "      <td>2018</td>\n",
       "      <td>121.0</td>\n",
       "      <td>Action,Crime,Drama</td>\n",
       "      <td>6.2</td>\n",
       "      <td>2018-12-25</td>\n",
       "      <td>9000000</td>\n",
       "      <td>1533324</td>\n",
       "      <td>3681096</td>\n",
       "      <td>-0.590989</td>\n",
       "      <td>Action</td>\n",
       "      <td>12</td>\n",
       "      <td>Q4</td>\n",
       "      <td>-5318904</td>\n",
       "    </tr>\n",
       "    <tr>\n",
       "      <th>1175</th>\n",
       "      <td>2018</td>\n",
       "      <td>105.0</td>\n",
       "      <td>Action,Adventure,Animation</td>\n",
       "      <td>8.0</td>\n",
       "      <td>2018-02-02</td>\n",
       "      <td>30000000</td>\n",
       "      <td>490973</td>\n",
       "      <td>648599</td>\n",
       "      <td>-0.978380</td>\n",
       "      <td>Action</td>\n",
       "      <td>2</td>\n",
       "      <td>Q1</td>\n",
       "      <td>-29351401</td>\n",
       "    </tr>\n",
       "  </tbody>\n",
       "</table>\n",
       "<p>1174 rows × 13 columns</p>\n",
       "</div>"
      ],
      "text/plain": [
       "      year  runtime_minutes                      genres  averagerating  \\\n",
       "0     2010            103.0  Adventure,Animation,Comedy            8.3   \n",
       "1     2010            148.0     Action,Adventure,Sci-Fi            8.8   \n",
       "2     2010             93.0  Adventure,Animation,Comedy            6.3   \n",
       "3     2010            124.0     Adventure,Drama,Fantasy            5.0   \n",
       "4     2010            124.0     Action,Adventure,Sci-Fi            7.0   \n",
       "...    ...              ...                         ...            ...   \n",
       "1171  2018             45.0                 Drama,Music            8.6   \n",
       "1172  2018            102.0         Action,Drama,Sci-Fi            5.7   \n",
       "1173  2018            152.0      Fantasy,Horror,Mystery            6.8   \n",
       "1174  2018            121.0          Action,Crime,Drama            6.2   \n",
       "1175  2018            105.0  Action,Adventure,Animation            8.0   \n",
       "\n",
       "     release_date  production_budget  domestic_gross_y  worldwide_gross  \\\n",
       "0      2010-06-18          200000000         415004880       1068879522   \n",
       "1      2010-07-16          160000000         292576195        835524642   \n",
       "2      2010-05-21          165000000         238736787        756244673   \n",
       "3      2010-06-30           68000000         300531751        706102828   \n",
       "4      2010-05-07          170000000         312433331        621156389   \n",
       "...           ...                ...               ...              ...   \n",
       "1171   2018-08-31           30000000           5718096         10096821   \n",
       "1172   2018-08-31           30000000           5718096         10096821   \n",
       "1173   2018-10-26           20000000           2483472          7034615   \n",
       "1174   2018-12-25            9000000           1533324          3681096   \n",
       "1175   2018-02-02           30000000            490973           648599   \n",
       "\n",
       "           ROI primary_genre  release_month release_quarter     profit  \n",
       "0     4.344398     Adventure              6              Q2  868879522  \n",
       "1     4.222029        Action              7              Q3  675524642  \n",
       "2     3.583301     Adventure              5              Q2  591244673  \n",
       "3     9.383865     Adventure              6              Q2  638102828  \n",
       "4     2.653861        Action              5              Q2  451156389  \n",
       "...        ...           ...            ...             ...        ...  \n",
       "1171 -0.663439         Drama              8              Q3  -19903179  \n",
       "1172 -0.663439        Action              8              Q3  -19903179  \n",
       "1173 -0.648269       Fantasy             10              Q4  -12965385  \n",
       "1174 -0.590989        Action             12              Q4   -5318904  \n",
       "1175 -0.978380        Action              2              Q1  -29351401  \n",
       "\n",
       "[1174 rows x 13 columns]"
      ]
     },
     "execution_count": 157,
     "metadata": {},
     "output_type": "execute_result"
    }
   ],
   "source": [
    "#create a profit only column based on worldwide_gross \n",
    "\n",
    "#define a function to convert the object-type columns to integers\n",
    "def clean_money(value):\n",
    "    if pd.isna(value):\n",
    "        return 0\n",
    "    try:\n",
    "        return int(float(str(value).replace(\"$\", \"\").replace(\",\", \"\")))\n",
    "    except ValueError:\n",
    "        print(f\"Invalid value: {value}\")\n",
    "        return 0\n",
    "    \n",
    "#apply the function to production_budget, worldwide_gross, and domestic_gross_y\n",
    "full_df['production_budget'] = full_df['production_budget'].apply(clean_money)\n",
    "full_df['worldwide_gross'] = full_df['worldwide_gross'].apply(clean_money)\n",
    "full_df['domestic_gross_y'] = full_df['domestic_gross_y'].apply(clean_money)\n",
    "\n",
    "#calculate actual profit by substracting production budget from summed worldwide and domestic gross\n",
    "full_df['profit'] = full_df['worldwide_gross'] - full_df['production_budget']\n",
    "\n",
    "#call the full_df variable to see profit column\n",
    "full_df"
   ]
  },
  {
   "cell_type": "markdown",
   "id": "3e3f3d04",
   "metadata": {},
   "source": [
    "#### a) Each movie has multiple genres, thus, exploding the genres to treat and vizualize each separately and deliver insights"
   ]
  },
  {
   "cell_type": "code",
   "execution_count": 158,
   "id": "6ec0fac0",
   "metadata": {},
   "outputs": [
    {
     "name": "stdout",
     "output_type": "stream",
     "text": [
      "0    Adventure,Animation,Comedy\n",
      "1       Action,Adventure,Sci-Fi\n",
      "2    Adventure,Animation,Comedy\n",
      "3       Adventure,Drama,Fantasy\n",
      "4       Action,Adventure,Sci-Fi\n",
      "Name: genres, dtype: object\n",
      "[<class 'str'>]\n"
     ]
    }
   ],
   "source": [
    "#Confirm original genres column is a string before splitting:\n",
    "print(full_df['genres'].head())\n",
    "print(full_df['genres'].apply(type).unique())"
   ]
  },
  {
   "cell_type": "code",
   "execution_count": 159,
   "id": "dbd62147",
   "metadata": {},
   "outputs": [],
   "source": [
    "#clean and fill missing values before splitting\n",
    "full_df['genres'] = full_df['genres'].fillna('Unknown')"
   ]
  },
  {
   "cell_type": "code",
   "execution_count": 160,
   "id": "d2ea2812",
   "metadata": {},
   "outputs": [
    {
     "name": "stdout",
     "output_type": "stream",
     "text": [
      "0    [Adventure, Animation, Comedy]\n",
      "1       [Action, Adventure, Sci-Fi]\n",
      "2    [Adventure, Animation, Comedy]\n",
      "3       [Adventure, Drama, Fantasy]\n",
      "4       [Action, Adventure, Sci-Fi]\n",
      "Name: genres, dtype: object\n",
      "count    1174.000000\n",
      "mean        2.533220\n",
      "std         0.694765\n",
      "min         1.000000\n",
      "25%         2.000000\n",
      "50%         3.000000\n",
      "75%         3.000000\n",
      "max         3.000000\n",
      "Name: genres, dtype: float64\n"
     ]
    }
   ],
   "source": [
    "#split the genres\n",
    "full_df['genres'] = full_df['genres'].fillna('').str.split(',')\n",
    "print(full_df['genres'].head())\n",
    "print(full_df['genres'].apply(len).describe())"
   ]
  },
  {
   "cell_type": "code",
   "execution_count": 161,
   "id": "22252240",
   "metadata": {},
   "outputs": [
    {
     "name": "stdout",
     "output_type": "stream",
     "text": [
      "Empty DataFrame\n",
      "Columns: [year, runtime_minutes, genres, averagerating, release_date, production_budget, domestic_gross_y, worldwide_gross, ROI, primary_genre, release_month, release_quarter, profit]\n",
      "Index: []\n"
     ]
    }
   ],
   "source": [
    "#check for empty lists before exploding\n",
    "empty_lists = full_df[full_df['genres'].apply(len) == 0]\n",
    "print(empty_lists)"
   ]
  },
  {
   "cell_type": "code",
   "execution_count": 162,
   "id": "d4e6e156",
   "metadata": {},
   "outputs": [
    {
     "name": "stdout",
     "output_type": "stream",
     "text": [
      "0\n",
      "['Adventure' 'Animation' 'Comedy' 'Action' 'Sci-Fi' 'Drama' 'Fantasy'\n",
      " 'Family' 'Thriller' 'Romance' 'Horror' 'Mystery' 'Western' 'Biography'\n",
      " 'Crime' 'Documentary' 'Sport' 'War' 'Music' 'Musical' 'History' 'News']\n"
     ]
    }
   ],
   "source": [
    "#explode the genres\n",
    "full_df_exploded = full_df.explode('genres')\n",
    "print(full_df_exploded['genres'].isna().sum())\n",
    "print(full_df_exploded['genres'].unique())"
   ]
  },
  {
   "cell_type": "code",
   "execution_count": 163,
   "id": "ca2e99be",
   "metadata": {},
   "outputs": [
    {
     "name": "stdout",
     "output_type": "stream",
     "text": [
      "                  mean    median  count\n",
      "genres                                 \n",
      "Horror       13.229796  3.214558    127\n",
      "Mystery      11.644514  2.808061    104\n",
      "Thriller      7.524239  1.814909    206\n",
      "Sport         6.707148  1.515813     23\n",
      "Music         3.907913  2.225932     32\n",
      "Romance       3.713154  1.777525    142\n",
      "Documentary   3.420519  1.725037     33\n",
      "Biography     3.138321  1.473796    102\n",
      "Sci-Fi        3.116370  2.114412    104\n",
      "Drama         3.090778  1.384934    547\n",
      "Animation     3.001201  2.168614     89\n",
      "Comedy        2.830531  1.739016    400\n",
      "Fantasy       2.630890  1.278165     97\n",
      "Adventure     2.306628  1.779089    298\n",
      "Musical       2.191186  2.124787      4\n",
      "Action        2.130324  1.358951    363\n",
      "Family        2.121443  1.347904     71\n",
      "History       1.967289  1.240222     35\n",
      "Crime         1.527635  1.117482    182\n",
      "Western       1.386197  0.407825      7\n",
      "War           1.364284  1.240222      7\n",
      "News          0.805509  0.805509      1\n"
     ]
    }
   ],
   "source": [
    "#aggregate profit by genre\n",
    "genre_profit = full_df_exploded.groupby('genres')['ROI'].agg(['mean', 'median', 'count']).sort_values(by='mean', ascending=False)\n",
    "print(genre_profit)"
   ]
  },
  {
   "cell_type": "markdown",
   "id": "cbd849fe",
   "metadata": {},
   "source": [
    "#### c) Visualisations"
   ]
  },
  {
   "cell_type": "markdown",
   "id": "5607f2fa",
   "metadata": {},
   "source": [
    "#### c.1) Bar chart of Median Profit by Genre (Less likely to be Affected by Outliers)"
   ]
  },
  {
   "cell_type": "code",
   "execution_count": 164,
   "id": "3baafdce",
   "metadata": {},
   "outputs": [
    {
     "data": {
      "image/png": "[encoded data removed]",
      "text/plain": [
       "<Figure size 864x432 with 1 Axes>"
      ]
     },
     "metadata": {
      "needs_background": "light"
     },
     "output_type": "display_data"
    }
   ],
   "source": [
    "plt.figure(figsize=(12, 6))\n",
    "genre_profit['median'].sort_values(ascending=False).plot(kind='bar', color='green')\n",
    "plt.title('Median Profit by Genre', size = 20)\n",
    "plt.ylabel('Median Profit ($)', size = 15)\n",
    "plt.xlabel('Genre', size = 15)\n",
    "plt.xticks(rotation=45)\n",
    "plt.tight_layout()\n",
    "plt.grid(True)\n",
    "plt.show()"
   ]
  },
  {
   "cell_type": "markdown",
   "id": "78a87cc0",
   "metadata": {},
   "source": [
    "Median Bar Plot Interpretation:\n",
    "* Horror is the most profitable genre.\n",
    "* Westerns are the least profitable genre."
   ]
  },
  {
   "cell_type": "markdown",
   "id": "8b87143b",
   "metadata": {},
   "source": [
    "#### c.2) Most Profitable Genres per Year"
   ]
  },
  {
   "cell_type": "code",
   "execution_count": 165,
   "id": "d9f026f2",
   "metadata": {},
   "outputs": [
    {
     "data": {
      "image/png": "[encoded data removed]",
      "text/plain": [
       "<Figure size 864x432 with 1 Axes>"
      ]
     },
     "metadata": {
      "needs_background": "light"
     },
     "output_type": "display_data"
    }
   ],
   "source": [
    "#compute most profitable genre per year\n",
    "top_genres_per_year = full_df_exploded.groupby(['year', 'genres'])['profit'].mean().reset_index()\n",
    "top_by_year = top_genres_per_year.loc[top_genres_per_year.groupby('year')['profit'].idxmax()]\n",
    "\n",
    "# Sort by year to align bars and labels correctly\n",
    "top_by_year = top_by_year.sort_values('year')\n",
    "\n",
    "plt.figure(figsize=(12, 6))\n",
    "ax = sns.barplot(data=top_by_year, x='year', y='profit', hue='genres', dodge=False)\n",
    "# Rotate labels and ensure alignment\n",
    "ax.set_xticks(range(len(top_by_year))) \n",
    "ax.set_xticklabels(top_by_year['year'].astype(str)) \n",
    "\n",
    "plt.title('Top-Profiting Genre Each Year')\n",
    "plt.ylabel('Average Profit')\n",
    "plt.xlabel('Year')\n",
    "plt.tight_layout()\n",
    "plt.show()"
   ]
  },
  {
   "cell_type": "markdown",
   "id": "df62f8bd",
   "metadata": {},
   "source": [
    "**Barplot interpretation:**  \n",
    "* Animation has consistently been profitable in more years i.e. 2010, 2011, 2012, 2015 and 2016\n",
    "* The Sport genre has the highest average profit, it only occurs in 2013, making it inconsistent in yielding stable returns over a long time for a new studio."
   ]
  },
  {
   "cell_type": "markdown",
   "id": "701c486a",
   "metadata": {},
   "source": [
    "#### c.3) Analysis of Genre Profit Margins  \n",
    "\n",
    "Profit margins show how much profit was earned per dollar spent. \n",
    "\n",
    "Its calculated by: Profit Margin = Profit/Production Budget\n",
    "\n",
    "A barplot would yield a clear ranking of which genre delivers most bang for the buck."
   ]
  },
  {
   "cell_type": "code",
   "execution_count": 166,
   "id": "ecfbc4fd",
   "metadata": {},
   "outputs": [
    {
     "data": {
      "image/png": "[encoded data removed]",
      "text/plain": [
       "<Figure size 864x432 with 1 Axes>"
      ]
     },
     "metadata": {
      "needs_background": "light"
     },
     "output_type": "display_data"
    }
   ],
   "source": [
    "#calculating profit margin\n",
    "full_df_exploded['profit_margin'] = full_df_exploded['profit'] / full_df_exploded['production_budget']\n",
    "\n",
    "#Barplot of Average Margin by Genre\n",
    "genre_margins = full_df_exploded.groupby('genres')['profit_margin'].mean().sort_values(ascending=False)\n",
    "\n",
    "plt.figure(figsize=(12, 6))\n",
    "genre_margins.plot(kind='bar', color='green')\n",
    "plt.ylabel('Average Profit Margin')\n",
    "plt.title('Average Profit Margin by Genre')\n",
    "plt.xticks(rotation=45)\n",
    "plt.tight_layout()\n",
    "plt.show()"
   ]
  },
  {
   "cell_type": "markdown",
   "id": "b284205a",
   "metadata": {},
   "source": [
    "**Interpretation:**\n",
    "* Horror, Mystery and Thriller genres have high average profit margins. This means they are the most financilly efficient and generate big profits with relatively low budgets.\n",
    "* Action, Drama or Sci-Fi return some profit but less efficiently. While they may have high profits, the margins are thin on account of high budgets.\n",
    "* Western, War and News genres have low average profit margins\n",
    "\n",
    "**Implication:**\n",
    "* To maximize returns per dollar spent, the movie studio should focus on Horror, Mystery, and Thriller genres.\n",
    "* However, if the concern is with blockbuster profit totals, invest in lower-margin but high-revenue genres like Action and Adventure."
   ]
  },
  {
   "cell_type": "markdown",
   "id": "46fa3930",
   "metadata": {},
   "source": [
    "#### d)"
   ]
  },
  {
   "cell_type": "code",
   "execution_count": 167,
   "id": "07d5ba69",
   "metadata": {},
   "outputs": [],
   "source": [
    "#domestic revenue vs worldwide_gross\n",
    "\n",
    "# Filter out zero or null worldwide gross to avoid divide-by-zero\n",
    "full_df = full_df[full_df['worldwide_gross'] > 0]\n",
    "\n",
    "# Create domestic revenue share (percentage of worldwide revenue)\n",
    "full_df['domestic_share_y'] = full_df['domestic_gross_y'] / full_df['worldwide_gross']\n"
   ]
  },
  {
   "cell_type": "code",
   "execution_count": 172,
   "id": "36fc924b",
   "metadata": {},
   "outputs": [
    {
     "name": "stdout",
     "output_type": "stream",
     "text": [
      "genres\n",
      "Sport          0.649346\n",
      "Documentary    0.564593\n",
      "Music          0.563369\n",
      "Comedy         0.545018\n",
      "Family         0.535876\n",
      "Musical        0.533727\n",
      "Biography      0.527709\n",
      "Romance        0.525401\n",
      "Crime          0.503017\n",
      "Drama          0.499517\n",
      "Western        0.486607\n",
      "Horror         0.477670\n",
      "Mystery        0.457734\n",
      "Thriller       0.456284\n",
      "War            0.450939\n",
      "History        0.437462\n",
      "Action         0.420045\n",
      "Sci-Fi         0.412278\n",
      "Fantasy        0.411940\n",
      "Adventure      0.401796\n",
      "Animation      0.396268\n",
      "News           0.341285\n",
      "Name: domestic_share_y, dtype: float64\n"
     ]
    }
   ],
   "source": [
    "# Group by genre and calculate average domestic share\n",
    "full_df_exploded = full_df.explode('genres')\n",
    "genre_domestic_share = full_df_exploded.groupby('genres')['domestic_share_y'].mean().sort_values(ascending=False)\n",
    "print(genre_domestic_share)\n"
   ]
  },
  {
   "cell_type": "code",
   "execution_count": 173,
   "id": "b10c0f71",
   "metadata": {},
   "outputs": [
    {
     "data": {
      "image/png": "[encoded data removed]",
      "text/plain": [
       "<Figure size 720x432 with 1 Axes>"
      ]
     },
     "metadata": {
      "needs_background": "light"
     },
     "output_type": "display_data"
    }
   ],
   "source": [
    "#visualize\n",
    "\n",
    "# Get top and bottom 10 genres\n",
    "top10 = genre_domestic_share.sort_values(ascending=False).head(10)\n",
    "bottom10 = genre_domestic_share.sort_values().head(10)\n",
    "\n",
    "# Combine\n",
    "combined = pd.concat([top10, bottom10])\n",
    "\n",
    "# Plot\n",
    "plt.figure(figsize=(10, 6))\n",
    "sns.barplot(x=combined.values, y=combined.index, palette=\"coolwarm\")\n",
    "plt.title(\"Top & Bottom Genres by Domestic Revenue Share\")\n",
    "plt.xlabel(\"Average Domestic Share\")\n",
    "plt.ylabel(\"Genre\")\n",
    "plt.show()"
   ]
  },
  {
   "cell_type": "markdown",
   "id": "ac8e2e12",
   "metadata": {},
   "source": [
    " The horizontal bar chart above indicates the revenue share between domestic and worldwide markets. Depending on where our client intends to set up their business, the following recommendations are made:\n",
    "* Sports and documentary movies earn almost 60% of their revenues domestically. These are best suited for domestic market only.\n",
    "* Mystery and Thriller movies earn almost 55% of their revenues worldwide. These are best suited for the worldwide market.\n",
    "\n"
   ]
  },
  {
   "cell_type": "markdown",
   "id": "775a7a7e",
   "metadata": {},
   "source": [
    "### 3.4. Runtime, Ratings, and Revenue: Is there a correlation between rating or length and revenue?"
   ]
  },
  {
   "cell_type": "code",
   "execution_count": null,
   "id": "259fd5b5",
   "metadata": {},
   "outputs": [
    {
     "data": {
      "image/png": "[encoded data removed]",
      "text/plain": [
       "<Figure size 432x288 with 1 Axes>"
      ]
     },
     "metadata": {
      "needs_background": "light"
     },
     "output_type": "display_data"
    },
    {
     "name": "stdout",
     "output_type": "stream",
     "text": [
      "Pearson correlation: 0.23, p-value: 0.0000\n"
     ]
    }
   ],
   "source": [
    "# testing correlation of runtime minutes and revenue\n",
    "sns.scatterplot(data=full_df,x=\"runtime_minutes\", y=\"worldwide_gross\")\n",
    "plt.title(\"Movie Runtime vs. Worldwide Gross\")\n",
    "plt.xlabel(\"Runtime (minutes)\")\n",
    "plt.ylabel(\"Worldwide Gross\")\n",
    "plt.show()\n",
    "# Correlation\n",
    "corr, p_value = pearsonr(full_df[\"runtime_minutes\"].dropna(),full_df[\"worldwide_gross\"].dropna())\n",
    "print(f\"Pearson correlation: {corr:.2f}, p-value: {p_value:.4f}\")"
   ]
  },
  {
   "cell_type": "markdown",
   "id": "978a25e0",
   "metadata": {},
   "source": [
    "### RUNTIME VS REVENUE\n",
    "\n",
    "Pearson correlation: 0.23\n",
    "\n",
    "* This is a weak positive correlation between runtime and revenue.\n",
    "* It means longer movies tend to have slightly higher revenue, but the relationship is not strong.\n",
    "\n",
    "P-value: 0.0000 (effectively < 0.001)\n",
    "\n",
    "* This means the correlation is highly statistically significant.\n",
    "* The chance of observing this correlation by random chance is practically zero\n"
   ]
  },
  {
   "cell_type": "code",
   "execution_count": null,
   "id": "9462da7c",
   "metadata": {},
   "outputs": [
    {
     "data": {
      "image/png": "[encoded data removed]",
      "text/plain": [
       "<Figure size 432x288 with 1 Axes>"
      ]
     },
     "metadata": {
      "needs_background": "light"
     },
     "output_type": "display_data"
    },
    {
     "name": "stdout",
     "output_type": "stream",
     "text": [
      "Pearson correlation: 0.23, p-value: 0.0000\n"
     ]
    }
   ],
   "source": [
    "# testing correlation between average rating and Revenue\n",
    "sns.scatterplot(data=full_df,x=\"averagerating\", y=\"worldwide_gross\")\n",
    "plt.title(\"Movie ratings vs. Worldwide Gross\")\n",
    "plt.xlabel(\"ratings\")\n",
    "plt.ylabel(\"Worldwide Gross\")\n",
    "plt.show()\n",
    "# Correlation\n",
    "corr, p_value = pearsonr(full_df[\"averagerating\"].dropna(),full_df[\"worldwide_gross\"].dropna())\n",
    "print(f\"Pearson correlation: {corr:.2f}, p-value: {p_value:.4f}\")"
   ]
  },
  {
   "cell_type": "markdown",
   "id": "e7e0f8ac",
   "metadata": {},
   "source": [
    "### RATING VS REVENUE\n",
    "\n",
    "Pearson correlation: 0.23\n",
    "\n",
    "* This is a weak positive correlation between rating and revenue.\n",
    "* It means higher rated movies tend to have slightly higher revenue, but the relationship is not strong.\n",
    "\n",
    "P-value: 0.0000 (effectively < 0.001)\n",
    "\n",
    "* This means the correlation is highly statistically significant.\n",
    "* The chance of observing this correlation by random chance is practically zero"
   ]
  },
  {
   "cell_type": "markdown",
   "id": "13955efa",
   "metadata": {},
   "source": [
    "### CONCLUSION\n",
    "#### In this notebook, we have explored different aspects of the film industry and potential avenues for market entry for our client.\n",
    "#### We have addressed genre trends, relationships between rating, runtime and revenue, seasonal trends and ROI trends.\n"
   ]
  }
 ],
 "metadata": {
  "kernelspec": {
   "display_name": "python (learn-env)",
   "language": "python",
   "name": "learn-env"
  },
  "language_info": {
   "codemirror_mode": {
    "name": "ipython",
    "version": 3
   },
   "file_extension": ".py",
   "mimetype": "text/x-python",
   "name": "python",
   "nbconvert_exporter": "python",
   "pygments_lexer": "ipython3",
   "version": "3.8.5"
  }
 },
 "nbformat": 4,
 "nbformat_minor": 5
}
